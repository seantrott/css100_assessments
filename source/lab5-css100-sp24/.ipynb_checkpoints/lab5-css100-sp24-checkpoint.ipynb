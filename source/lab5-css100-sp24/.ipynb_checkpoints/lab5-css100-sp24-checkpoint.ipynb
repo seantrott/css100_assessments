{
 "cells": [
  {
   "cell_type": "markdown",
   "id": "555f928d",
   "metadata": {
    "nbgrader": {
     "grade": false,
     "grade_id": "cell-9a63b85e8be80bd5",
     "locked": true,
     "schema_version": 3,
     "solution": false,
     "task": false
    }
   },
   "source": [
    "# Lab 5: CSS 100\n",
    "\n",
    "In this lab, you'll get hands-on practice understanding **Linear Discriminant Analysis**.\n",
    "\n",
    "This will include:\n",
    "\n",
    "- Building a simple LDA classifier from scratch.  \n",
    "- Fitting and testing your LDA classifier using cross-validation.  \n",
    "\n",
    "**About the lab**: You'll be working with a *simulated* dataset, which contains `4` features and `3` possible classes. Your job will be to build the raw components of an LDA classifier, which can ultimately be used to predict the probability of a given class $P(Y_i = k)$, given some feature vector $X_i$."
   ]
  },
  {
   "cell_type": "code",
   "execution_count": 1,
   "id": "4decbdfc",
   "metadata": {
    "nbgrader": {
     "grade": false,
     "grade_id": "cell-7a7096ddd267e9f3",
     "locked": true,
     "schema_version": 3,
     "solution": false,
     "task": false
    }
   },
   "outputs": [],
   "source": [
    "### Make sure to run this code!\n",
    "import nltk\n",
    "import pandas as pd\n",
    "import seaborn as sns\n",
    "import numpy as np\n",
    "import statsmodels.api as sm\n",
    "import matplotlib.pyplot as plt\n",
    "\n",
    "from sklearn.metrics import confusion_matrix\n",
    "from sklearn.discriminant_analysis import LinearDiscriminantAnalysis"
   ]
  },
  {
   "cell_type": "code",
   "execution_count": 2,
   "id": "a5c4a864",
   "metadata": {
    "nbgrader": {
     "grade": false,
     "grade_id": "cell-902351129be7d31b",
     "locked": true,
     "schema_version": 3,
     "solution": false,
     "task": false
    }
   },
   "outputs": [
    {
     "data": {
      "text/html": [
       "<div>\n",
       "<style scoped>\n",
       "    .dataframe tbody tr th:only-of-type {\n",
       "        vertical-align: middle;\n",
       "    }\n",
       "\n",
       "    .dataframe tbody tr th {\n",
       "        vertical-align: top;\n",
       "    }\n",
       "\n",
       "    .dataframe thead th {\n",
       "        text-align: right;\n",
       "    }\n",
       "</style>\n",
       "<table border=\"1\" class=\"dataframe\">\n",
       "  <thead>\n",
       "    <tr style=\"text-align: right;\">\n",
       "      <th></th>\n",
       "      <th>X1</th>\n",
       "      <th>X2</th>\n",
       "      <th>X3</th>\n",
       "      <th>X4</th>\n",
       "      <th>Y</th>\n",
       "    </tr>\n",
       "  </thead>\n",
       "  <tbody>\n",
       "    <tr>\n",
       "      <th>0</th>\n",
       "      <td>4.306253</td>\n",
       "      <td>-5.210937</td>\n",
       "      <td>-4.701388</td>\n",
       "      <td>-2.803813</td>\n",
       "      <td>0</td>\n",
       "    </tr>\n",
       "    <tr>\n",
       "      <th>1</th>\n",
       "      <td>7.952292</td>\n",
       "      <td>-3.306654</td>\n",
       "      <td>1.855223</td>\n",
       "      <td>2.568510</td>\n",
       "      <td>1</td>\n",
       "    </tr>\n",
       "    <tr>\n",
       "      <th>2</th>\n",
       "      <td>7.303269</td>\n",
       "      <td>-4.131177</td>\n",
       "      <td>-6.013623</td>\n",
       "      <td>-2.591343</td>\n",
       "      <td>0</td>\n",
       "    </tr>\n",
       "  </tbody>\n",
       "</table>\n",
       "</div>"
      ],
      "text/plain": [
       "         X1        X2        X3        X4  Y\n",
       "0  4.306253 -5.210937 -4.701388 -2.803813  0\n",
       "1  7.952292 -3.306654  1.855223  2.568510  1\n",
       "2  7.303269 -4.131177 -6.013623 -2.591343  0"
      ]
     },
     "execution_count": 2,
     "metadata": {},
     "output_type": "execute_result"
    }
   ],
   "source": [
    "### Make sure to run this code!\n",
    "df_simulated = pd.read_csv(\"data/simulated_data.csv\")\n",
    "df_simulated.head(3)"
   ]
  },
  {
   "cell_type": "markdown",
   "id": "2924a537",
   "metadata": {
    "nbgrader": {
     "grade": false,
     "grade_id": "cell-f7afe104c700a1cd",
     "locked": true,
     "schema_version": 3,
     "solution": false,
     "task": false
    }
   },
   "source": [
    "### Q1. Calculate class *priors*\n",
    "\n",
    "Recall that the first step of LDA is to calculate the **priors** of each class $k$. Write a function called `calculate_priors`, which will take in a `numpy.array` of response values $Y$, and return a `dict` with each class $k$ as the *key*, and the *probability* of that class as the *value*.\n",
    "\n",
    "**Hint**: The [`np.unique`](https://numpy.org/doc/stable/reference/generated/numpy.unique.html) function might be of use to you here, using the `return_counts = True` paramter."
   ]
  },
  {
   "cell_type": "code",
   "execution_count": 3,
   "id": "e5087971",
   "metadata": {
    "nbgrader": {
     "grade": false,
     "grade_id": "cell-df03976b38087e05",
     "locked": false,
     "schema_version": 3,
     "solution": true,
     "task": false
    }
   },
   "outputs": [],
   "source": [
    "### BEGIN SOLUTION\n",
    "def calculate_priors(labels):\n",
    "    \"\"\"\n",
    "    Calculate the prior probabilities for each class in a dataset.\n",
    "    \n",
    "    Parameters:\n",
    "        labels (np.array): A numpy array of class labels.\n",
    "        \n",
    "    Returns:\n",
    "        dict: A dictionary with classes as keys and their prior probabilities as values.\n",
    "    \"\"\"\n",
    "    classes, counts = np.unique(labels, return_counts=True)\n",
    "    total = labels.size\n",
    "    priors = {cls: count / total for cls, count in zip(classes, counts)}\n",
    "    return priors\n",
    "### END SOLUTION"
   ]
  },
  {
   "cell_type": "code",
   "execution_count": 4,
   "id": "8e2b9a3c",
   "metadata": {
    "nbgrader": {
     "grade": true,
     "grade_id": "cell-4c3f0ab6ca8c0e5b",
     "locked": true,
     "points": 1,
     "schema_version": 3,
     "solution": false,
     "task": false
    }
   },
   "outputs": [],
   "source": [
    "assert calculate_priors\n",
    "\n",
    "assert calculate_priors(df_simulated['Y']) == {0: 0.5, 1: 0.25, 2: 0.25}"
   ]
  },
  {
   "cell_type": "markdown",
   "id": "ac5d55c2",
   "metadata": {},
   "source": [
    "### Q2. Calculate class *means*\n",
    "\n",
    "Now, we'll need to calculate $P(X|Y)$. As a first step, we can write a function to calculate the *mean* of $X$ for each class $Y$. \n",
    "\n",
    "This function, `calculate_class_means`, should take as arguments:\n",
    "\n",
    "- `data`: a `pd.DataFrame`.  \n",
    "- `features`: a list of features to calculate the means of. \n",
    "- `dv`: a `str` representing the response variable (e.g., `'Y'`). \n",
    "\n",
    "The variable should `return` the *mean* of each feature for each class (rounded to 2 decimal places), in a `dict` that looks like:\n",
    "\n",
    "```python\n",
    "{'X1': {0: ..., 1: ..., 2: ....},\n",
    " 'X2': {0: ..., 1: ..., 2: ....}}\n",
    "```"
   ]
  },
  {
   "cell_type": "code",
   "execution_count": 5,
   "id": "2e346026",
   "metadata": {
    "nbgrader": {
     "grade": false,
     "grade_id": "cell-c6e0878ba1a3ad3d",
     "locked": false,
     "schema_version": 3,
     "solution": true,
     "task": false
    }
   },
   "outputs": [],
   "source": [
    "### BEGIN SOLUTION\n",
    "def calculate_class_means(data, features, dv):\n",
    "    \"\"\"\n",
    "    Calculate the mean of each feature for each class in the dataset.\n",
    "\n",
    "    Parameters:\n",
    "        data (pd.DataFrame): The dataset containing the features and response variable.\n",
    "        features (list): List of features to calculate the means of.\n",
    "        dv (str): The name of the response variable column in the DataFrame.\n",
    "\n",
    "    Returns:\n",
    "        dict: A dictionary where each key is a feature and each value is another dictionary mapping class labels to means.\n",
    "    \"\"\"\n",
    "    # Group the data by the response variable and calculate means\n",
    "    class_means = round(data.groupby(dv)[features].mean(), 2)\n",
    "\n",
    "    # Reformat the result into the specified dictionary format\n",
    "    result = {feature: class_means[feature].to_dict() for feature in features}\n",
    "    return result\n",
    "\n",
    "### END SOLUTION"
   ]
  },
  {
   "cell_type": "code",
   "execution_count": 6,
   "id": "35fe3e39",
   "metadata": {
    "nbgrader": {
     "grade": true,
     "grade_id": "cell-0568d8b8970cedbb",
     "locked": true,
     "points": 1,
     "schema_version": 3,
     "solution": false,
     "task": false
    }
   },
   "outputs": [],
   "source": [
    "assert calculate_class_means\n",
    "\n",
    "means1 = calculate_class_means(df_simulated, ['X1', 'X2'], 'Y')\n",
    "assert 'X1' in means1.keys()\n",
    "assert 'X2' in means1.keys()\n",
    "assert 'X3' not in means1.keys()\n",
    "assert 'X4' not in means1.keys()\n",
    "\n",
    "means2 = calculate_class_means(df_simulated, ['X3', 'X4'], 'Y')\n",
    "assert 'X1' not in means2.keys()\n",
    "assert 'X2' not in means2.keys()\n",
    "assert 'X3' in means2.keys()\n",
    "assert 'X4' in means2.keys()"
   ]
  },
  {
   "cell_type": "code",
   "execution_count": 7,
   "id": "1c3b9c6c",
   "metadata": {
    "nbgrader": {
     "grade": true,
     "grade_id": "cell-db0c1cec33e40ac9",
     "locked": true,
     "points": 1,
     "schema_version": 3,
     "solution": false,
     "task": false
    }
   },
   "outputs": [],
   "source": [
    "assert means1['X1'] == {0: 5.89, 1: 6.51, 2: -9.55}\n",
    "assert means1['X2'] == {0: -4.77, 1: -2.88, 2: 4.48}\n",
    "\n",
    "assert means2['X3'] == {0: -5.55, 1: 2.86, 2: 7.12}\n",
    "assert means2['X4'] == {0: -2.83, 1: 3.32, 2: 6.0}"
   ]
  },
  {
   "cell_type": "markdown",
   "id": "e8a4b822",
   "metadata": {
    "nbgrader": {
     "grade": false,
     "grade_id": "cell-267f8fa777bc8ee2",
     "locked": true,
     "schema_version": 3,
     "solution": false,
     "task": false
    }
   },
   "source": [
    "### Q3. Write the discriminant function for single-feature LDA\n",
    "\n",
    "Now, we'll implement a simpler version of LDA, which uses only a *single feature*. To do this, we'll start by writing a function called `calculate_simple_discriminant_function`, which takes as arguments:\n",
    "\n",
    "- `data`: a `pd.DataFrame`. \n",
    "- `features`: a list of all possible features for the dataset.\n",
    "- `feature`: the feature in question.  \n",
    "- `dv`: the dependent variable. \n",
    "- `sigma`: the relevant $\\sigma$ of that `feature` (see the cell below for assistance). \n",
    "\n",
    "This should return a `dict`, which has:\n",
    "\n",
    "- A *key* for each class $k$.  \n",
    "- Each class $k$ should map onto a *vector* of **discriminant values**, i.e., the result of applying the function below.\n",
    "\n",
    "$\\delta_k(X) = X * \\frac{\\mu_k}{\\sigma^2} - \\frac{\\mu^2_k}{2\\sigma^2} + log(P(k))$\n",
    "\n",
    "Where:\n",
    "\n",
    "- $X$ is the feature in the question. \n",
    "- $mu_k$ is the mean of $X$ for class $k$.  \n",
    "- $\\sigma^2$ is the variance of $X$ (assumed to be shared aross all classes).  \n",
    "- $P(k)$ is the *prior of class $k$.\n",
    "\n",
    "**Note**: If you're feeling stuck, check out the `assert` statements for more guidance!"
   ]
  },
  {
   "cell_type": "code",
   "execution_count": 8,
   "id": "0112bbb2",
   "metadata": {
    "nbgrader": {
     "grade": false,
     "grade_id": "cell-9864cf8421d5d4e0",
     "locked": true,
     "schema_version": 3,
     "solution": false,
     "task": false
    }
   },
   "outputs": [
    {
     "data": {
      "text/plain": [
       "X1    0.931985\n",
       "X2    1.041443\n",
       "X3    1.000059\n",
       "X4    1.027162\n",
       "dtype: float64"
      ]
     },
     "execution_count": 8,
     "metadata": {},
     "output_type": "execute_result"
    }
   ],
   "source": [
    "### To help you out!\n",
    "variance = df_simulated.groupby(\"Y\").var()\n",
    "mean_variances = variance.mean()\n",
    "mean_variances"
   ]
  },
  {
   "cell_type": "code",
   "execution_count": 9,
   "id": "f657d16c",
   "metadata": {
    "nbgrader": {
     "grade": false,
     "grade_id": "cell-33506b08ef2b11d7",
     "locked": false,
     "schema_version": 3,
     "solution": true,
     "task": false
    }
   },
   "outputs": [],
   "source": [
    "### BEGIN SOLUTION\n",
    "def calculate_lda_discriminant(data, features, feature, dv, var):\n",
    "    \"\"\"\n",
    "    Calculate the LDA discriminant values for a single feature using means calculated for multiple features.\n",
    "    \n",
    "    Parameters:\n",
    "        data (pd.DataFrame): DataFrame containing features and class labels.\n",
    "        features (list): List of features from which means are calculated.\n",
    "        dv (str): The name of the dependent variable (class label) column.\n",
    "        feature (str): The single feature to use for discriminant calculation.\n",
    "        \n",
    "    Returns:\n",
    "        pd.DataFrame: DataFrame with discriminant values for each class for each observation.\n",
    "    \"\"\"\n",
    "    # Calculate priors and means for all features, then extract means for the specified feature\n",
    "    priors = calculate_priors(data[dv])\n",
    "    all_means = calculate_class_means(data, features, dv)\n",
    "\n",
    "    discriminants = {} #pd.DataFrame(index=data.index)\n",
    "    \n",
    "    for cls in data[dv].unique():\n",
    "        mean = all_means[feature][cls]  # Extract the mean for the specific feature\n",
    "        log_prior = np.log(priors[cls])\n",
    "        # Calculate discriminant for each class\n",
    "        discriminant = (data[feature] * mean / var \n",
    "                        - 0.5 * mean**2 / var\n",
    "                        + log_prior)\n",
    "        discriminants[cls] = discriminant\n",
    "\n",
    "    return discriminants\n",
    "### END SOLUTION"
   ]
  },
  {
   "cell_type": "code",
   "execution_count": 10,
   "id": "5b9723e6",
   "metadata": {
    "nbgrader": {
     "grade": true,
     "grade_id": "cell-baab57010c07b251",
     "locked": true,
     "points": 1,
     "schema_version": 3,
     "solution": false,
     "task": false
    }
   },
   "outputs": [],
   "source": [
    "assert calculate_lda_discriminant\n",
    "\n",
    "### Trying it out for feature 'X1'\n",
    "discs = calculate_lda_discriminant(df_simulated, features = ['X1', 'X2', 'X3', 'X4'],\n",
    "                                   feature = 'X1', \n",
    "                                   dv = 'Y', \n",
    "                                   var = mean_variances['X1'])\n",
    "assert 0 in discs.keys()\n",
    "assert 1 in discs.keys()\n",
    "assert 2 in discs.keys()"
   ]
  },
  {
   "cell_type": "code",
   "execution_count": 11,
   "id": "3ee9e745",
   "metadata": {
    "nbgrader": {
     "grade": true,
     "grade_id": "cell-1602b46d6078ce64",
     "locked": true,
     "points": 1,
     "schema_version": 3,
     "solution": false,
     "task": false
    }
   },
   "outputs": [],
   "source": [
    "assert len(discs[0] == len(df_simulated))\n",
    "assert len(discs[1] == len(df_simulated))\n",
    "assert len(discs[2] == len(df_simulated))"
   ]
  },
  {
   "cell_type": "code",
   "execution_count": 12,
   "id": "4971f8aa",
   "metadata": {
    "nbgrader": {
     "grade": true,
     "grade_id": "cell-e822fa8999632676",
     "locked": true,
     "points": 1,
     "schema_version": 3,
     "solution": false,
     "task": false
    }
   },
   "outputs": [],
   "source": [
    "assert round(discs[0].mean(), 2) == -5.5\n",
    "assert round(discs[1].mean(), 2) == -8.86\n",
    "assert round(discs[2].mean(), 2) == -72.71"
   ]
  },
  {
   "cell_type": "markdown",
   "id": "e5923c03",
   "metadata": {
    "nbgrader": {
     "grade": false,
     "grade_id": "cell-ac507222f9d5447b",
     "locked": true,
     "schema_version": 3,
     "solution": false,
     "task": false
    }
   },
   "source": [
    "### Q4. Use the discriminant function for classification\n",
    "\n",
    "Now, we can *merge* the results of applying the discriminant function for a specific feature above (`'X1'`) with our actual labels, and we can ask how well our classifier did. \n",
    "\n",
    "The `Read-only` cell below will do some of this for you. Your job is to create a **confusion matrix** comparing `prediction` to `Y`, using the `confusion_matrix` (`sklearn`) and `sns.heatmap` functions.\n",
    "\n",
    "**Note**: Here is the [documentation for the `sklearn` confusion matrix](https://scikit-learn.org/stable/modules/generated/sklearn.metrics.confusion_matrix.html). For our purposes here, no need to use the `normalize` parameter; however, please set `annot = True` for `sns.heatmap`.\n"
   ]
  },
  {
   "cell_type": "code",
   "execution_count": 13,
   "id": "7e8c6359",
   "metadata": {
    "nbgrader": {
     "grade": false,
     "grade_id": "cell-6229d5bf384161ee",
     "locked": true,
     "schema_version": 3,
     "solution": false,
     "task": false
    }
   },
   "outputs": [],
   "source": [
    "### Run this code!\n",
    "# First, create dataframe\n",
    "df_discs = pd.DataFrame(discs)\n",
    "\n",
    "# Then, get predicted class\n",
    "df_discs['prediction'] = df_discs.idxmax(axis = 1)\n",
    "\n",
    "# Add real value\n",
    "df_discs['Y'] = df_simulated['Y']"
   ]
  },
  {
   "cell_type": "code",
   "execution_count": 14,
   "id": "012ca1fa",
   "metadata": {
    "nbgrader": {
     "grade": true,
     "grade_id": "cell-3b5f9ab1467f9535",
     "locked": false,
     "points": 2,
     "schema_version": 3,
     "solution": true,
     "task": false
    }
   },
   "outputs": [
    {
     "data": {
      "text/plain": [
       "<AxesSubplot:>"
      ]
     },
     "execution_count": 14,
     "metadata": {},
     "output_type": "execute_result"
    },
    {
     "data": {
      "image/png": "[encoded data removed]",
      "text/plain": [
       "<Figure size 432x288 with 2 Axes>"
      ]
     },
     "metadata": {
      "needs_background": "light"
     },
     "output_type": "display_data"
    }
   ],
   "source": [
    "### BEGIN SOLUTION\n",
    "cm = confusion_matrix(df_discs['Y'], df_discs['prediction'])\n",
    "sns.heatmap(cm, annot = True)\n",
    "### END SOLUTION"
   ]
  },
  {
   "cell_type": "markdown",
   "id": "3c5a953d",
   "metadata": {
    "nbgrader": {
     "grade": false,
     "grade_id": "cell-bdd60435b17e9bcb",
     "locked": true,
     "schema_version": 3,
     "solution": false,
     "task": false
    }
   },
   "source": [
    "### Q5. Compare to `sklearn` implementation\n",
    "\n",
    "Now, let's compare our implementation to the `sklearn` version of `LinearDiscriminantAnalysis`. In this problem:\n",
    "\n",
    "- Instantiate a `LinearDiscriminantAnalysis` classifier.  \n",
    "- `.fit` the classifier to `X` and `y` (below).  \n",
    "- `.predict` on `X` to get a new distribution of predictions `y_pred`. \n",
    "- Create another confusion matrix comparing `y` to `y_pred`.\n",
    "\n",
    "How do these compare? Pretty similar overall?"
   ]
  },
  {
   "cell_type": "code",
   "execution_count": 15,
   "id": "4f44453e",
   "metadata": {
    "nbgrader": {
     "grade": false,
     "grade_id": "cell-eeb1a38ed4bd26ed",
     "locked": true,
     "schema_version": 3,
     "solution": false,
     "task": false
    }
   },
   "outputs": [],
   "source": [
    "### Run this code!\n",
    "X = df_simulated['X1'].values.reshape(-1, 1)\n",
    "y = df_simulated['Y']"
   ]
  },
  {
   "cell_type": "code",
   "execution_count": 16,
   "id": "1a9aefe7",
   "metadata": {
    "nbgrader": {
     "grade": true,
     "grade_id": "cell-7ec1f1d3f58cbd8b",
     "locked": false,
     "points": 1,
     "schema_version": 3,
     "solution": true,
     "task": false
    }
   },
   "outputs": [
    {
     "data": {
      "text/plain": [
       "<AxesSubplot:>"
      ]
     },
     "execution_count": 16,
     "metadata": {},
     "output_type": "execute_result"
    },
    {
     "data": {
      "image/png": "[encoded data removed]",
      "text/plain": [
       "<Figure size 432x288 with 2 Axes>"
      ]
     },
     "metadata": {
      "needs_background": "light"
     },
     "output_type": "display_data"
    }
   ],
   "source": [
    "### BEGIN SOLUTION\n",
    "lda = LinearDiscriminantAnalysis()\n",
    "lda.fit(X, y)\n",
    "y_pred = lda.predict(X)\n",
    "cm = confusion_matrix(y, y_pred)\n",
    "sns.heatmap(cm, annot = True)\n",
    "### END SOLUTION"
   ]
  },
  {
   "cell_type": "markdown",
   "id": "5ba03b7e",
   "metadata": {
    "nbgrader": {
     "grade": false,
     "grade_id": "cell-e82695fe32cb643f",
     "locked": true,
     "schema_version": 3,
     "solution": false,
     "task": false
    }
   },
   "source": [
    "# Submit!\n",
    "\n",
    "Congratulations, you just implemented some of the code necessary for **linear discriminant analysis (LDA)**, and compared it to an existing implementation in `sklearn`. Don't forget to validate and submit!"
   ]
  }
 ],
 "metadata": {
  "celltoolbar": "Create Assignment",
  "kernelspec": {
   "display_name": "Python 3 (clean)",
   "language": "python",
   "name": "python3_clean"
  },
  "language_info": {
   "codemirror_mode": {
    "name": "ipython",
    "version": 3
   },
   "file_extension": ".py",
   "mimetype": "text/x-python",
   "name": "python",
   "nbconvert_exporter": "python",
   "pygments_lexer": "ipython3",
   "version": "3.9.5"
  }
 },
 "nbformat": 4,
 "nbformat_minor": 5
}
