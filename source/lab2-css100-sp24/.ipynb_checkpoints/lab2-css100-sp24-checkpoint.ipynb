{
 "cells": [
  {
   "cell_type": "markdown",
   "id": "555f928d",
   "metadata": {
    "nbgrader": {
     "grade": false,
     "grade_id": "cell-9a63b85e8be80bd5",
     "locked": true,
     "schema_version": 3,
     "solution": false,
     "task": false
    }
   },
   "source": [
    "# Lab 2: CSS 100\n",
    "\n",
    "In this lab, you'll get hands-on practice using some of the `nltk` library and its various applications."
   ]
  },
  {
   "cell_type": "code",
   "execution_count": 25,
   "id": "4decbdfc",
   "metadata": {
    "nbgrader": {
     "grade": false,
     "grade_id": "cell-7a7096ddd267e9f3",
     "locked": true,
     "schema_version": 3,
     "solution": false,
     "task": false
    }
   },
   "outputs": [
    {
     "name": "stderr",
     "output_type": "stream",
     "text": [
      "[nltk_data] Downloading package punkt to /home/grader-\n",
      "[nltk_data]     css100-02/nltk_data...\n",
      "[nltk_data]   Package punkt is already up-to-date!\n",
      "[nltk_data] Downloading package vader_lexicon to /home/grader-\n",
      "[nltk_data]     css100-02/nltk_data...\n",
      "[nltk_data]   Package vader_lexicon is already up-to-date!\n",
      "[nltk_data] Downloading package wordnet to /home/grader-\n",
      "[nltk_data]     css100-02/nltk_data...\n",
      "[nltk_data]   Package wordnet is already up-to-date!\n"
     ]
    },
    {
     "data": {
      "text/plain": [
       "True"
      ]
     },
     "execution_count": 25,
     "metadata": {},
     "output_type": "execute_result"
    }
   ],
   "source": [
    "### Make sure to run this code!\n",
    "import nltk\n",
    "import pandas as pd\n",
    "import seaborn as sns\n",
    "\n",
    "nltk.download(\"punkt\")\n",
    "nltk.download('vader_lexicon')\n",
    "nltk.download('wordnet')"
   ]
  },
  {
   "cell_type": "markdown",
   "id": "a0f6af64",
   "metadata": {
    "nbgrader": {
     "grade": false,
     "grade_id": "cell-1f597c5b1d807ef2",
     "locked": true,
     "schema_version": 3,
     "solution": false,
     "task": false
    }
   },
   "source": [
    "## Part 1. Text processing."
   ]
  },
  {
   "cell_type": "markdown",
   "id": "e198e187",
   "metadata": {
    "nbgrader": {
     "grade": false,
     "grade_id": "cell-725b39c685f92aac",
     "locked": true,
     "schema_version": 3,
     "solution": false,
     "task": false
    }
   },
   "source": [
    "### Q1. Tokenizing sentences with `nltk`\n",
    "\n",
    "To start off, let's tokenize a few different *paragraphs* of text. Below is a list of paragraphs. Use a `list` comprehension to `sent_tokenize` each of them, and call the resulting `list` of tokens `tokenized_paragraphs`.\n",
    "\n",
    "Don't forget to `import` the `sent_tokenize` function!"
   ]
  },
  {
   "cell_type": "code",
   "execution_count": 7,
   "id": "35ab1798",
   "metadata": {
    "nbgrader": {
     "grade": false,
     "grade_id": "cell-0852afdf38b9b28b",
     "locked": true,
     "schema_version": 3,
     "solution": false,
     "task": false
    }
   },
   "outputs": [],
   "source": [
    "paragraphs = [\n",
    "    \"The movie wasn't great but it also wasn't terrible. Overall I think I liked it.\",\n",
    "    \"I really like iced coffee. However, iced tea is my favorite!\",\n",
    "    \"The filibuster has led to a bottleneck in Congress. It's hard to pass bills these days.\",\n",
    "    \"I liked the meal but thought the service was even better! Very professionanl.\"\n",
    "]"
   ]
  },
  {
   "cell_type": "code",
   "execution_count": 8,
   "id": "9a82fdea",
   "metadata": {
    "nbgrader": {
     "grade": false,
     "grade_id": "cell-62cac6384da0ff9f",
     "locked": false,
     "schema_version": 3,
     "solution": true,
     "task": false
    }
   },
   "outputs": [],
   "source": [
    "### BEGIN SOLUTION\n",
    "from nltk import sent_tokenize\n",
    "\n",
    "tokenized_paragraphs = [sent_tokenize(i) for i in paragraphs]\n",
    "### END SOLUTION"
   ]
  },
  {
   "cell_type": "code",
   "execution_count": 9,
   "id": "130fafd7",
   "metadata": {
    "nbgrader": {
     "grade": true,
     "grade_id": "cell-b11e6062b2c5992c",
     "locked": true,
     "points": 1,
     "schema_version": 3,
     "solution": false,
     "task": false
    }
   },
   "outputs": [],
   "source": [
    "assert tokenized_paragraphs\n",
    "\n",
    "assert len(tokenized_paragraphs) == 4\n",
    "assert len(tokenized_paragraphs[0]) == 2\n",
    "assert len(tokenized_paragraphs[1]) == 2\n",
    "assert len(tokenized_paragraphs[2]) == 2\n",
    "assert len(tokenized_paragraphs[3]) == 2\n"
   ]
  },
  {
   "cell_type": "markdown",
   "id": "022d57fa",
   "metadata": {
    "nbgrader": {
     "grade": false,
     "grade_id": "cell-ccc6de00ebcdeaf4",
     "locked": true,
     "schema_version": 3,
     "solution": false,
     "task": false
    }
   },
   "source": [
    "### Q2. Tokenizing words with `nltk`\n",
    "\n",
    "Now let's tokenize those sentences into *words*. For each sentence in each paragraph in `tokenized_paragraphs`, call `word_tokenize`. You might want to use a **nested list comprehension**:\n",
    "\n",
    "```python\n",
    "[[func(i) for i in sublist] for sublist in original_list]\n",
    "```\n",
    "\n",
    "Call the result `tokenized_sentences`.\n",
    "\n",
    "Don't forget to `import` the `word_tokenize` function!"
   ]
  },
  {
   "cell_type": "code",
   "execution_count": 10,
   "id": "3ef40bbf",
   "metadata": {
    "nbgrader": {
     "grade": false,
     "grade_id": "cell-7d90be3bb00dfe8f",
     "locked": false,
     "schema_version": 3,
     "solution": true,
     "task": false
    }
   },
   "outputs": [],
   "source": [
    "### BEGIN SOLUTION\n",
    "from nltk import word_tokenize\n",
    "\n",
    "tokenized_sentences = [[word_tokenize(sentence) for sentence in sublist] for sublist in tokenized_paragraphs]\n",
    "### END SOLUTION"
   ]
  },
  {
   "cell_type": "code",
   "execution_count": 11,
   "id": "278f1113",
   "metadata": {
    "nbgrader": {
     "grade": true,
     "grade_id": "cell-c2f32f0314a95e42",
     "locked": true,
     "points": 1,
     "schema_version": 3,
     "solution": false,
     "task": false
    }
   },
   "outputs": [],
   "source": [
    "assert tokenized_sentences\n",
    "\n",
    "assert len(tokenized_sentences) == 4\n",
    "assert len(tokenized_sentences[0][0]) == 12\n",
    "assert len(tokenized_sentences[0][1]) == 7\n",
    "assert len(tokenized_sentences[1][0]) == 6\n",
    "assert len(tokenized_sentences[1][1]) == 8"
   ]
  },
  {
   "cell_type": "markdown",
   "id": "e0101201",
   "metadata": {
    "nbgrader": {
     "grade": false,
     "grade_id": "cell-b0b1debe281c84fe",
     "locked": true,
     "schema_version": 3,
     "solution": false,
     "task": false
    }
   },
   "source": [
    "### Q3. Lemmatizing and *stemming* words\n",
    "\n",
    "Now you'll get some practice *lemmatizing* and *stemming* words. \n",
    "\n",
    "- Import `WordNetLemmatizer` and `PorterStemmer`, and apply them to `sentence`. \n",
    "- Call the resulting lists of tokens `lemmas` and `stems`, respectively.\n",
    "- Then, create a *new* list called `diff`, which includes all the lemmas from `lemmas` that were *different* from the corresponding `stem`.\n",
    "\n",
    "```python\n",
    "from nltk.stem import WordNetLemmatizer\n",
    "from nltk.stem import PorterStemmer\n",
    "```\n",
    "\n",
    "Don't forget to `word_tokenize` first!"
   ]
  },
  {
   "cell_type": "code",
   "execution_count": 12,
   "id": "72730acf",
   "metadata": {
    "nbgrader": {
     "grade": false,
     "grade_id": "cell-a5ef671748e83ee7",
     "locked": true,
     "schema_version": 3,
     "solution": false,
     "task": false
    }
   },
   "outputs": [],
   "source": [
    "sentence = \"those are my favorite movies from the last two years\""
   ]
  },
  {
   "cell_type": "code",
   "execution_count": 13,
   "id": "745f7bfc",
   "metadata": {
    "nbgrader": {
     "grade": false,
     "grade_id": "cell-5e31d05aae2b514b",
     "locked": false,
     "schema_version": 3,
     "solution": true,
     "task": false
    }
   },
   "outputs": [],
   "source": [
    "### BEGIN SOLUTION\n",
    "from nltk.stem import WordNetLemmatizer\n",
    "from nltk.stem import PorterStemmer\n",
    "\n",
    "lemmatizer = WordNetLemmatizer()\n",
    "ps = PorterStemmer()\n",
    "\n",
    "stems = [ps.stem(i) for i in word_tokenize(sentence)]\n",
    "lemmas = [lemmatizer.lemmatize(i) for i in word_tokenize(sentence)]\n",
    "\n",
    "diff = [i for i in lemmas if i not in stems]\n",
    "\n",
    "### END SOLUTION"
   ]
  },
  {
   "cell_type": "code",
   "execution_count": 14,
   "id": "6f05e5f4",
   "metadata": {
    "nbgrader": {
     "grade": true,
     "grade_id": "cell-96bf86e4fc02f80c",
     "locked": true,
     "points": 1,
     "schema_version": 3,
     "solution": false,
     "task": false
    }
   },
   "outputs": [],
   "source": [
    "assert stems\n",
    "assert lemmas\n",
    "\n",
    "assert len(stems) == 10\n",
    "assert len(lemmas) == 10"
   ]
  },
  {
   "cell_type": "code",
   "execution_count": 15,
   "id": "39d9f515",
   "metadata": {
    "nbgrader": {
     "grade": true,
     "grade_id": "cell-1fd6a970e422dbfc",
     "locked": true,
     "points": 1,
     "schema_version": 3,
     "solution": false,
     "task": false
    }
   },
   "outputs": [],
   "source": [
    "assert diff\n",
    "\n",
    "assert len(diff) == 2"
   ]
  },
  {
   "cell_type": "markdown",
   "id": "7ccf70b2",
   "metadata": {
    "nbgrader": {
     "grade": false,
     "grade_id": "cell-9ba707a3dd1a0615",
     "locked": true,
     "schema_version": 3,
     "solution": false,
     "task": false
    }
   },
   "source": [
    "### Q4. More fine-grained lemmatization\n",
    "\n",
    "`WordNetLemmatizer` can accept a `pos` argument (e.g., 'n' or 'a'). Try running the lemmatizer on the list of `adjectives` below and save the results, using either the `pos` argument or not. Save the results in two different lists: `with_pos` and `without_pos`.\n",
    "\n",
    "**Note**: Set `pos = \"a\"` for adjectives, if using `pos`."
   ]
  },
  {
   "cell_type": "code",
   "execution_count": 16,
   "id": "78511f85",
   "metadata": {
    "nbgrader": {
     "grade": false,
     "grade_id": "cell-eed1cb97ef19f35b",
     "locked": true,
     "schema_version": 3,
     "solution": false,
     "task": false
    }
   },
   "outputs": [],
   "source": [
    "adjectives = [\"good\", \"greatest\", \"best\", \"worst\", \"unhappiest\", \"happiest\", \"better\"]"
   ]
  },
  {
   "cell_type": "code",
   "execution_count": 17,
   "id": "79f4afef",
   "metadata": {
    "nbgrader": {
     "grade": false,
     "grade_id": "cell-3dfb3a66a9f7ce3c",
     "locked": false,
     "schema_version": 3,
     "solution": true,
     "task": false
    }
   },
   "outputs": [],
   "source": [
    "### BEGIN SOLUTION\n",
    "lemmatizer = WordNetLemmatizer()\n",
    "\n",
    "with_pos = [lemmatizer.lemmatize(i, pos = \"a\") for i in adjectives]\n",
    "without_pos = [lemmatizer.lemmatize(i) for i in adjectives]\n",
    "\n",
    "### END SOLUTION"
   ]
  },
  {
   "cell_type": "code",
   "execution_count": 18,
   "id": "1fa797fd",
   "metadata": {
    "nbgrader": {
     "grade": true,
     "grade_id": "cell-b121929adc2b769a",
     "locked": true,
     "points": 1,
     "schema_version": 3,
     "solution": false,
     "task": false
    }
   },
   "outputs": [],
   "source": [
    "assert with_pos\n",
    "assert without_pos\n",
    "\n",
    "assert \"great\" in with_pos\n",
    "assert \"bad\" in with_pos\n",
    "assert \"greatest\" in without_pos\n",
    "assert \"worst\" in without_pos"
   ]
  },
  {
   "cell_type": "markdown",
   "id": "49e680c6",
   "metadata": {
    "nbgrader": {
     "grade": false,
     "grade_id": "cell-72081fe3493aa53d",
     "locked": true,
     "schema_version": 3,
     "solution": false,
     "task": false
    }
   },
   "source": [
    "## Part 2. Sentiment analysis."
   ]
  },
  {
   "cell_type": "markdown",
   "id": "2bc9f70d",
   "metadata": {
    "nbgrader": {
     "grade": false,
     "grade_id": "cell-e4aafaccad7330bc",
     "locked": true,
     "schema_version": 3,
     "solution": false,
     "task": false
    }
   },
   "source": [
    "### Q5. Use the `SentimentIntensityAnalyzer` to analyze restaurant reviews\n",
    "\n",
    "1. Read in `data/restaurant_reviews.csv` using `pandas` (call it `df_reviews`).  \n",
    "2. Then, use the `SentimentIntensityAnalyzer` to analyze the sentiment of each review. \n",
    "3. Create a new column called `vader_sentiment`, which is set equal to the result of the \"compound\" score from the `SentimentIntensityAnalyzer.polarity_scores`.\n",
    "\n",
    "Don't forget to import `SentimentIntensityAnalyzer`!\n",
    "\n",
    "**Reflection (for thought)**: Does the measured sentiment relate to `Liked == 0/1`?"
   ]
  },
  {
   "cell_type": "code",
   "execution_count": 19,
   "id": "9c9a8533",
   "metadata": {
    "nbgrader": {
     "grade": false,
     "grade_id": "cell-65d548e9a2dff19a",
     "locked": false,
     "schema_version": 3,
     "solution": true,
     "task": false
    }
   },
   "outputs": [],
   "source": [
    "### BEGIN SOLUTION\n",
    "from nltk.sentiment.vader import SentimentIntensityAnalyzer\n",
    "sia = SentimentIntensityAnalyzer()\n",
    "\n",
    "df_reviews = pd.read_csv(\"data/restaurant_reviews.csv\")\n",
    "\n",
    "df_reviews['vader_sentiment'] = df_reviews['Review'].apply(lambda x: sia.polarity_scores(x)['compound'])\n",
    "### END SOLUTION"
   ]
  },
  {
   "cell_type": "code",
   "execution_count": 20,
   "id": "673969f6",
   "metadata": {
    "nbgrader": {
     "grade": true,
     "grade_id": "cell-ef41cdbbe3d797ec",
     "locked": true,
     "points": 1,
     "schema_version": 3,
     "solution": false,
     "task": false
    }
   },
   "outputs": [],
   "source": [
    "assert len(df_reviews) == 1000\n",
    "\n",
    "assert 'vader_sentiment' in df_reviews.columns"
   ]
  },
  {
   "cell_type": "code",
   "execution_count": 21,
   "id": "964381fb",
   "metadata": {
    "nbgrader": {
     "grade": true,
     "grade_id": "cell-dc93a4703d0571b8",
     "locked": true,
     "points": 2,
     "schema_version": 3,
     "solution": false,
     "task": false
    }
   },
   "outputs": [],
   "source": [
    "assert df_reviews['vader_sentiment'].mean() > 0\n",
    "assert df_reviews['vader_sentiment'].median() > 0\n",
    "\n",
    "df_grouped = df_reviews.groupby(\"Liked\").mean('vader_sentiment')\n",
    "assert df_grouped['vader_sentiment'][0] < 0\n",
    "assert df_grouped['vader_sentiment'][1] > 0"
   ]
  },
  {
   "cell_type": "markdown",
   "id": "5557b6c0",
   "metadata": {
    "nbgrader": {
     "grade": false,
     "grade_id": "cell-e14a8ecb2b3ea125",
     "locked": true,
     "schema_version": 3,
     "solution": false,
     "task": false
    }
   },
   "source": [
    "### Q6. Create a graph\n",
    "\n",
    "Finally, create a *visualization* comparing `vader_sentiment` to `Liked`. Does this show what you expected?\n",
    "\n",
    "(Note: a bar plot, boxplot, violinplot, etc., or any other plot with a categorical x-axis would be fine here.)"
   ]
  },
  {
   "cell_type": "code",
   "execution_count": 27,
   "id": "9703278a",
   "metadata": {
    "nbgrader": {
     "grade": true,
     "grade_id": "cell-2be2b054aa09f020",
     "locked": false,
     "points": 2,
     "schema_version": 3,
     "solution": true,
     "task": false
    }
   },
   "outputs": [
    {
     "data": {
      "text/plain": [
       "<AxesSubplot:xlabel='Liked', ylabel='vader_sentiment'>"
      ]
     },
     "execution_count": 27,
     "metadata": {},
     "output_type": "execute_result"
    },
    {
     "data": {
      "image/png": "[encoded data removed]",
      "text/plain": [
       "<Figure size 432x288 with 1 Axes>"
      ]
     },
     "metadata": {
      "needs_background": "light"
     },
     "output_type": "display_data"
    }
   ],
   "source": [
    "### BEGIN SOLUTION\n",
    "sns.boxplot(data = df_reviews, x = \"Liked\", y = \"vader_sentiment\")\n",
    "### END SOLUTION"
   ]
  },
  {
   "cell_type": "markdown",
   "id": "c32648bf",
   "metadata": {
    "nbgrader": {
     "grade": false,
     "grade_id": "cell-57b25ef313cecfe1",
     "locked": true,
     "schema_version": 3,
     "solution": false,
     "task": false
    }
   },
   "source": [
    "## Submit!\n",
    "\n",
    "Congratulations, you're done with lab 2 and now have some basic fluency with `nltk`!"
   ]
  }
 ],
 "metadata": {
  "celltoolbar": "Create Assignment",
  "kernelspec": {
   "display_name": "Python 3 (clean)",
   "language": "python",
   "name": "python3_clean"
  },
  "language_info": {
   "codemirror_mode": {
    "name": "ipython",
    "version": 3
   },
   "file_extension": ".py",
   "mimetype": "text/x-python",
   "name": "python",
   "nbconvert_exporter": "python",
   "pygments_lexer": "ipython3",
   "version": "3.9.5"
  }
 },
 "nbformat": 4,
 "nbformat_minor": 5
}
