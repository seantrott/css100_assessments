{
 "cells": [
  {
   "cell_type": "markdown",
   "id": "555f928d",
   "metadata": {
    "nbgrader": {
     "grade": false,
     "grade_id": "cell-9a63b85e8be80bd5",
     "locked": true,
     "schema_version": 3,
     "solution": false,
     "task": false
    }
   },
   "source": [
    "# Lab 7: CSS 100\n",
    "\n",
    "In this lab, you'll get hands-on practice understanding **Principal Components Analysis**.\n",
    "\n",
    "This will include:\n",
    "\n",
    "- Applying PCA to a dataset. \n",
    "- Visualizing the variance explained by each component. \n",
    "- Interpreting how different components \"load\" onto each original feature."
   ]
  },
  {
   "cell_type": "code",
   "execution_count": 1,
   "id": "4decbdfc",
   "metadata": {
    "nbgrader": {
     "grade": false,
     "grade_id": "cell-7a7096ddd267e9f3",
     "locked": true,
     "schema_version": 3,
     "solution": false,
     "task": false
    }
   },
   "outputs": [],
   "source": [
    "### Make sure to run this code!\n",
    "import nltk\n",
    "import pandas as pd\n",
    "import seaborn as sns\n",
    "import numpy as np\n",
    "import statsmodels.api as sm\n",
    "import matplotlib.pyplot as plt"
   ]
  },
  {
   "cell_type": "markdown",
   "id": "d74dcb3e",
   "metadata": {
    "nbgrader": {
     "grade": false,
     "grade_id": "cell-574ecb4929e44328",
     "locked": true,
     "schema_version": 3,
     "solution": false,
     "task": false
    }
   },
   "source": [
    "### The dataset\n",
    "\n",
    "You'll be working with a dataset about different **cars**, which includes a variety of features, e.g., `horsepower` or `engine-size`. "
   ]
  },
  {
   "cell_type": "code",
   "execution_count": 2,
   "id": "558bab3d",
   "metadata": {
    "nbgrader": {
     "grade": false,
     "grade_id": "cell-72aca80ce7e679f2",
     "locked": true,
     "schema_version": 3,
     "solution": false,
     "task": false
    }
   },
   "outputs": [
    {
     "data": {
      "text/html": [
       "<div>\n",
       "<style scoped>\n",
       "    .dataframe tbody tr th:only-of-type {\n",
       "        vertical-align: middle;\n",
       "    }\n",
       "\n",
       "    .dataframe tbody tr th {\n",
       "        vertical-align: top;\n",
       "    }\n",
       "\n",
       "    .dataframe thead th {\n",
       "        text-align: right;\n",
       "    }\n",
       "</style>\n",
       "<table border=\"1\" class=\"dataframe\">\n",
       "  <thead>\n",
       "    <tr style=\"text-align: right;\">\n",
       "      <th></th>\n",
       "      <th>symboling</th>\n",
       "      <th>normalized-losses</th>\n",
       "      <th>make</th>\n",
       "      <th>fuel-type</th>\n",
       "      <th>aspiration</th>\n",
       "      <th>num-of-doors</th>\n",
       "      <th>body-style</th>\n",
       "      <th>drive-wheels</th>\n",
       "      <th>engine-location</th>\n",
       "      <th>wheel-base</th>\n",
       "      <th>...</th>\n",
       "      <th>engine-size</th>\n",
       "      <th>fuel-system</th>\n",
       "      <th>bore</th>\n",
       "      <th>stroke</th>\n",
       "      <th>compression-ratio</th>\n",
       "      <th>horsepower</th>\n",
       "      <th>peak-rpm</th>\n",
       "      <th>city-mpg</th>\n",
       "      <th>highway-mpg</th>\n",
       "      <th>price</th>\n",
       "    </tr>\n",
       "  </thead>\n",
       "  <tbody>\n",
       "    <tr>\n",
       "      <th>0</th>\n",
       "      <td>3</td>\n",
       "      <td>?</td>\n",
       "      <td>alfa-romero</td>\n",
       "      <td>gas</td>\n",
       "      <td>std</td>\n",
       "      <td>two</td>\n",
       "      <td>convertible</td>\n",
       "      <td>rwd</td>\n",
       "      <td>front</td>\n",
       "      <td>88.6</td>\n",
       "      <td>...</td>\n",
       "      <td>130</td>\n",
       "      <td>mpfi</td>\n",
       "      <td>3.47</td>\n",
       "      <td>2.68</td>\n",
       "      <td>9.0</td>\n",
       "      <td>111</td>\n",
       "      <td>5000</td>\n",
       "      <td>21</td>\n",
       "      <td>27</td>\n",
       "      <td>13495</td>\n",
       "    </tr>\n",
       "    <tr>\n",
       "      <th>1</th>\n",
       "      <td>3</td>\n",
       "      <td>?</td>\n",
       "      <td>alfa-romero</td>\n",
       "      <td>gas</td>\n",
       "      <td>std</td>\n",
       "      <td>two</td>\n",
       "      <td>convertible</td>\n",
       "      <td>rwd</td>\n",
       "      <td>front</td>\n",
       "      <td>88.6</td>\n",
       "      <td>...</td>\n",
       "      <td>130</td>\n",
       "      <td>mpfi</td>\n",
       "      <td>3.47</td>\n",
       "      <td>2.68</td>\n",
       "      <td>9.0</td>\n",
       "      <td>111</td>\n",
       "      <td>5000</td>\n",
       "      <td>21</td>\n",
       "      <td>27</td>\n",
       "      <td>16500</td>\n",
       "    </tr>\n",
       "    <tr>\n",
       "      <th>2</th>\n",
       "      <td>1</td>\n",
       "      <td>?</td>\n",
       "      <td>alfa-romero</td>\n",
       "      <td>gas</td>\n",
       "      <td>std</td>\n",
       "      <td>two</td>\n",
       "      <td>hatchback</td>\n",
       "      <td>rwd</td>\n",
       "      <td>front</td>\n",
       "      <td>94.5</td>\n",
       "      <td>...</td>\n",
       "      <td>152</td>\n",
       "      <td>mpfi</td>\n",
       "      <td>2.68</td>\n",
       "      <td>3.47</td>\n",
       "      <td>9.0</td>\n",
       "      <td>154</td>\n",
       "      <td>5000</td>\n",
       "      <td>19</td>\n",
       "      <td>26</td>\n",
       "      <td>16500</td>\n",
       "    </tr>\n",
       "  </tbody>\n",
       "</table>\n",
       "<p>3 rows × 26 columns</p>\n",
       "</div>"
      ],
      "text/plain": [
       "   symboling normalized-losses         make fuel-type aspiration num-of-doors  \\\n",
       "0          3                 ?  alfa-romero       gas        std          two   \n",
       "1          3                 ?  alfa-romero       gas        std          two   \n",
       "2          1                 ?  alfa-romero       gas        std          two   \n",
       "\n",
       "    body-style drive-wheels engine-location  wheel-base  ...  engine-size  \\\n",
       "0  convertible          rwd           front        88.6  ...          130   \n",
       "1  convertible          rwd           front        88.6  ...          130   \n",
       "2    hatchback          rwd           front        94.5  ...          152   \n",
       "\n",
       "   fuel-system  bore  stroke compression-ratio horsepower  peak-rpm city-mpg  \\\n",
       "0         mpfi  3.47    2.68               9.0        111      5000       21   \n",
       "1         mpfi  3.47    2.68               9.0        111      5000       21   \n",
       "2         mpfi  2.68    3.47               9.0        154      5000       19   \n",
       "\n",
       "  highway-mpg  price  \n",
       "0          27  13495  \n",
       "1          27  16500  \n",
       "2          26  16500  \n",
       "\n",
       "[3 rows x 26 columns]"
      ]
     },
     "execution_count": 2,
     "metadata": {},
     "output_type": "execute_result"
    }
   ],
   "source": [
    "### Run this code!\n",
    "df_autos = pd.read_csv(\"data/automobile.csv\")\n",
    "df_autos.head(3)"
   ]
  },
  {
   "cell_type": "markdown",
   "id": "2b36e23d",
   "metadata": {
    "nbgrader": {
     "grade": false,
     "grade_id": "cell-43a473e8981a4918",
     "locked": true,
     "schema_version": 3,
     "solution": false,
     "task": false
    }
   },
   "source": [
    "### Q1. Explore your data!\n",
    "\n",
    "In this section, your goal is just to explore the data. That includes things like:\n",
    "\n",
    "- Calculate the correlation between some of your variables.\n",
    "- Produce visualizations showing the different variables.\n",
    "\n",
    "There's no pressure here——just create 1-2 plots and calculate 1-2 correlation values that seem interesting to you."
   ]
  },
  {
   "cell_type": "code",
   "execution_count": 3,
   "id": "8a02d467",
   "metadata": {
    "nbgrader": {
     "grade": true,
     "grade_id": "cell-b11017c38802c80b",
     "locked": false,
     "points": 1,
     "schema_version": 3,
     "solution": true,
     "task": false
    }
   },
   "outputs": [
    {
     "data": {
      "text/plain": [
       "<AxesSubplot:xlabel='width', ylabel='city-mpg'>"
      ]
     },
     "execution_count": 3,
     "metadata": {},
     "output_type": "execute_result"
    },
    {
     "data": {
      "image/png": "[encoded data removed]",
      "text/plain": [
       "<Figure size 432x288 with 1 Axes>"
      ]
     },
     "metadata": {
      "needs_background": "light"
     },
     "output_type": "display_data"
    }
   ],
   "source": [
    "### BEGIN SOLUTION\n",
    "sns.scatterplot(data = df_autos, x = \"width\", y = \"city-mpg\", hue = \"height\")\n",
    "### END SOLUTION"
   ]
  },
  {
   "cell_type": "markdown",
   "id": "ced98087",
   "metadata": {
    "nbgrader": {
     "grade": false,
     "grade_id": "cell-3284d702c249929e",
     "locked": true,
     "schema_version": 3,
     "solution": false,
     "task": false
    }
   },
   "source": [
    "### Q2. Select your features!\n",
    "\n",
    "Now, use the list of `feature_names` below to select the *numerical features* about these cars. Create a new variable called `X` representing those features. Then, save the *shape* of `X` in a variable called `X_shape`."
   ]
  },
  {
   "cell_type": "code",
   "execution_count": 4,
   "id": "ffa1f981",
   "metadata": {
    "nbgrader": {
     "grade": false,
     "grade_id": "cell-19c99f34b7b56cff",
     "locked": true,
     "schema_version": 3,
     "solution": false,
     "task": false
    }
   },
   "outputs": [],
   "source": [
    "feature_names = ['symboling', 'wheel-base', 'length', 'width', 'height', 'curb-weight', \n",
    "                  'engine-size', 'compression-ratio', 'city-mpg', 'highway-mpg']"
   ]
  },
  {
   "cell_type": "code",
   "execution_count": 5,
   "id": "8d4b49f0",
   "metadata": {
    "nbgrader": {
     "grade": false,
     "grade_id": "cell-b54d7324d28adb04",
     "locked": false,
     "schema_version": 3,
     "solution": true,
     "task": false
    }
   },
   "outputs": [],
   "source": [
    "### BEGIN SOLUTION\n",
    "X = df_autos[feature_names].values\n",
    "X_shape = X.shape\n",
    "### END SOLUTION"
   ]
  },
  {
   "cell_type": "code",
   "execution_count": 6,
   "id": "79dd8ecc",
   "metadata": {
    "nbgrader": {
     "grade": true,
     "grade_id": "cell-7cde1f689edc0ed5",
     "locked": true,
     "points": 1,
     "schema_version": 3,
     "solution": false,
     "task": false
    }
   },
   "outputs": [],
   "source": [
    "assert X.shape == X_shape\n",
    "assert X_shape == (205, 10)"
   ]
  },
  {
   "cell_type": "markdown",
   "id": "f473178b",
   "metadata": {
    "nbgrader": {
     "grade": false,
     "grade_id": "cell-5facd79f93a3d3fe",
     "locked": true,
     "schema_version": 3,
     "solution": false,
     "task": false
    }
   },
   "source": [
    "### Q3. Standardize your features\n",
    "\n",
    "Now, *standardize* your features by:\n",
    "\n",
    "- Subtracting the *mean* of each column from each observation. \n",
    "- Dividing by the standard deviation of that column.\n",
    "\n",
    "Call this new matrix `Z`.\n",
    "\n",
    "Then, create a new variable called `Z_var`, which tracks the *variance* of each of those new columns. This should be `1` in each case, or very close to 1."
   ]
  },
  {
   "cell_type": "code",
   "execution_count": 7,
   "id": "e8b63880",
   "metadata": {
    "nbgrader": {
     "grade": false,
     "grade_id": "cell-c5d621fdc9f54d3f",
     "locked": false,
     "schema_version": 3,
     "solution": true,
     "task": false
    }
   },
   "outputs": [],
   "source": [
    "### BEGIN SOLUTION\n",
    "Z = (X - X.mean(axis = 0)) / X.std(axis = 0)\n",
    "Z_var = Z.var(axis = 0)\n",
    "### END SOLUTION"
   ]
  },
  {
   "cell_type": "code",
   "execution_count": 8,
   "id": "ee2ecaf0",
   "metadata": {
    "nbgrader": {
     "grade": true,
     "grade_id": "cell-1a58cc3a52b51d3e",
     "locked": true,
     "points": 1,
     "schema_version": 3,
     "solution": false,
     "task": false
    }
   },
   "outputs": [],
   "source": [
    "assert Z.shape == (205, 10)\n",
    "assert Z_var.mean() == 1"
   ]
  },
  {
   "cell_type": "markdown",
   "id": "fd52d377",
   "metadata": {
    "nbgrader": {
     "grade": false,
     "grade_id": "cell-45216680903d508c",
     "locked": true,
     "schema_version": 3,
     "solution": false,
     "task": false
    }
   },
   "source": [
    "### Q4. Calculate your *covariance matrix*.\n",
    "\n",
    "Now, use `numpy` to create a *covariance matrix* called `cov`. This should create a `(10, 10)` matrix.\n",
    "\n",
    "**Reflect**: What does each value in this matrix represent? And why should the *diagonal* be (roughly) `1`?"
   ]
  },
  {
   "cell_type": "code",
   "execution_count": 9,
   "id": "5fdb9d92",
   "metadata": {
    "nbgrader": {
     "grade": false,
     "grade_id": "cell-7e16aba23c567233",
     "locked": false,
     "schema_version": 3,
     "solution": true,
     "task": false
    }
   },
   "outputs": [],
   "source": [
    "### BEGIN SOLUTION\n",
    "cov = np.cov(Z, rowvar=False) \n",
    "### END SOLUTION"
   ]
  },
  {
   "cell_type": "code",
   "execution_count": 10,
   "id": "8e5c08df",
   "metadata": {
    "nbgrader": {
     "grade": true,
     "grade_id": "cell-7a5c4efa2ebeef2e",
     "locked": true,
     "points": 1,
     "schema_version": 3,
     "solution": false,
     "task": false
    }
   },
   "outputs": [],
   "source": [
    "assert cov.shape == (10, 10)\n",
    "assert cov.diagonal().round().mean() == 1"
   ]
  },
  {
   "cell_type": "markdown",
   "id": "85acf1c8",
   "metadata": {},
   "source": [
    "### Q5. Perform eigen-decomposition.\n",
    "\n",
    "Now, use the code discussed in class (`np.linalg.eig`) on your covariance matrix to create the *eigenvalues* and *eigenvectors*. Call these `eigenvalues` and `eigenvectors` respectively.\n",
    "\n",
    "**Reflect**: What is the *shape* of these new variables?"
   ]
  },
  {
   "cell_type": "code",
   "execution_count": 11,
   "id": "4495bb6c",
   "metadata": {
    "nbgrader": {
     "grade": false,
     "grade_id": "cell-8e8b8651f0d5f09c",
     "locked": false,
     "schema_version": 3,
     "solution": true,
     "task": false
    }
   },
   "outputs": [],
   "source": [
    "### BEGIN SOLUTION\n",
    "eigenvalues, eigenvectors = np.linalg.eig(cov)\n",
    "### END SOLUTION"
   ]
  },
  {
   "cell_type": "code",
   "execution_count": 12,
   "id": "9a085f7c",
   "metadata": {
    "nbgrader": {
     "grade": true,
     "grade_id": "cell-217ec0d83114c902",
     "locked": true,
     "points": 1,
     "schema_version": 3,
     "solution": false,
     "task": false
    }
   },
   "outputs": [],
   "source": [
    "assert eigenvalues.shape == (10,)\n",
    "assert eigenvectors.shape == (10,10)"
   ]
  },
  {
   "cell_type": "markdown",
   "id": "bbcad5b1",
   "metadata": {},
   "source": [
    "### Q6. Sort your eigenvalues and eigenvectors\n",
    "\n",
    "Now, *sort* your eigenvalues from largest to smallest, and then sort your eigenvectors accordingly. (Note: the code to do this should be available from the lecture on PCA; try to read through the code and understand what it's doing here, however!)\n"
   ]
  },
  {
   "cell_type": "code",
   "execution_count": 13,
   "id": "e6c4d223",
   "metadata": {
    "nbgrader": {
     "grade": false,
     "grade_id": "cell-e748c14d60060dfe",
     "locked": false,
     "schema_version": 3,
     "solution": true,
     "task": false
    }
   },
   "outputs": [],
   "source": [
    "### BEGIN SOLUTION\n",
    "sorted_indices = np.argsort(eigenvalues)[::-1]\n",
    "sorted_eigenvalues = eigenvalues[sorted_indices]\n",
    "sorted_eigenvectors = eigenvectors[:, sorted_indices]\n",
    "### END SOLUTION"
   ]
  },
  {
   "cell_type": "code",
   "execution_count": 14,
   "id": "c2a3e1ae",
   "metadata": {
    "nbgrader": {
     "grade": true,
     "grade_id": "cell-fbf670aafc05c202",
     "locked": true,
     "points": 1,
     "schema_version": 3,
     "solution": false,
     "task": false
    }
   },
   "outputs": [],
   "source": [
    "assert sorted_indices[0] == 0\n",
    "assert sorted_indices[-1] == 8\n",
    "\n",
    "assert sorted_eigenvalues.shape == (10,)\n",
    "assert sorted_eigenvectors.shape == (10, 10)"
   ]
  },
  {
   "cell_type": "markdown",
   "id": "0483da81",
   "metadata": {
    "nbgrader": {
     "grade": false,
     "grade_id": "cell-0c87a7be52c03c0f",
     "locked": true,
     "schema_version": 3,
     "solution": false,
     "task": false
    }
   },
   "source": [
    "### Q7. Visualize your eigenvalues using a scree plot\n",
    "\n",
    "Okay, now you can look at the **amount of variance explained** by each eigenvalue. Create a scatterplot:\n",
    "\n",
    "- The `x` axis should be the *component index* (1, 2, etc.).\n",
    "- The `y` axis should the *variance* explained by the corresponding eigenvalue. \n",
    "\n",
    "**Note**: Don't just plot the raw eigenvalues. Calculate the *proportion of variance explained* by each one.\n",
    "\n",
    "**Reflect**: Based on this *scree plot*, about how many components would you need to explain at least 70% of the original variance?"
   ]
  },
  {
   "cell_type": "code",
   "execution_count": 15,
   "id": "2099f6fd",
   "metadata": {
    "nbgrader": {
     "grade": true,
     "grade_id": "cell-868ab34bdf5781bd",
     "locked": false,
     "points": 1,
     "schema_version": 3,
     "solution": true,
     "task": false
    }
   },
   "outputs": [
    {
     "data": {
      "text/plain": [
       "Text(0, 0.5, '% variance explained')"
      ]
     },
     "execution_count": 15,
     "metadata": {},
     "output_type": "execute_result"
    },
    {
     "data": {
      "image/png": "[encoded data removed]",
      "text/plain": [
       "<Figure size 432x288 with 1 Axes>"
      ]
     },
     "metadata": {
      "needs_background": "light"
     },
     "output_type": "display_data"
    }
   ],
   "source": [
    "### BEGIN SOLUTION\n",
    "explained_variance_ratio = eigenvalues / eigenvalues.sum()\n",
    "sns.lineplot(x = list(range(1, len(eigenvalues) + 1)),\n",
    "               y = explained_variance_ratio)\n",
    "plt.xlabel(\"Component index\")\n",
    "plt.ylabel(\"% variance explained\")\n",
    "### END SOLUTION"
   ]
  },
  {
   "cell_type": "markdown",
   "id": "0a7f313f",
   "metadata": {
    "nbgrader": {
     "grade": false,
     "grade_id": "cell-54493c7878b716e0",
     "locked": true,
     "schema_version": 3,
     "solution": false,
     "task": false
    }
   },
   "source": [
    "### Q8. Create $Z*$\n",
    "\n",
    "Now that you have your eigenvectors, you can create $Z*$: the new **component matrix**.\n",
    "\n",
    "Create a variable called `Z_star`, which is the dot-product of `Z` and the eigenvectors."
   ]
  },
  {
   "cell_type": "code",
   "execution_count": 16,
   "id": "94863832",
   "metadata": {
    "nbgrader": {
     "grade": false,
     "grade_id": "cell-cf751d5cce61e6a0",
     "locked": false,
     "schema_version": 3,
     "solution": true,
     "task": false
    }
   },
   "outputs": [],
   "source": [
    "### BEGIN SOLUTION\n",
    "Z_star = np.dot(Z, eigenvectors)\n",
    "### END SOLUTION"
   ]
  },
  {
   "cell_type": "code",
   "execution_count": 17,
   "id": "7fd04d80",
   "metadata": {
    "nbgrader": {
     "grade": true,
     "grade_id": "cell-a2e4757316ffb0f2",
     "locked": true,
     "points": 1,
     "schema_version": 3,
     "solution": false,
     "task": false
    }
   },
   "outputs": [],
   "source": [
    "assert Z_star.shape == (205, 10)\n",
    "assert (Z_star == Z).mean() != 1"
   ]
  },
  {
   "cell_type": "markdown",
   "id": "74c2b9de",
   "metadata": {
    "nbgrader": {
     "grade": false,
     "grade_id": "cell-e2c285e74ac7f835",
     "locked": false,
     "schema_version": 3,
     "solution": false,
     "task": false
    }
   },
   "source": [
    "### Q9. Visualize the *loadings*\n",
    "\n",
    "We'd also like to be able to interpret the *loadings* of each component. To do this, create a `DataFrame` with a column for each *eigenvector* (ideally labeled as `PC1`, `PC2`, etc.); use the `feature_names` as the `index`. \n",
    "\n",
    "Finally, create a *heatmap* visualizing how each PC loads onto each feature. \n",
    "\n",
    "**Note**: There should be code from the PCA lecture if you get stuck on this one!"
   ]
  },
  {
   "cell_type": "code",
   "execution_count": 18,
   "id": "6d9b0a6e",
   "metadata": {
    "nbgrader": {
     "grade": true,
     "grade_id": "cell-cc010dfa86bb759b",
     "locked": false,
     "points": 1,
     "schema_version": 3,
     "solution": true,
     "task": false
    }
   },
   "outputs": [
    {
     "data": {
      "image/png": "[encoded data removed]",
      "text/plain": [
       "<Figure size 432x288 with 2 Axes>"
      ]
     },
     "metadata": {
      "needs_background": "light"
     },
     "output_type": "display_data"
    }
   ],
   "source": [
    "### BEGIN SOLUTION\n",
    "df_loadings = pd.DataFrame(eigenvectors, \n",
    "                           index = feature_names,\n",
    "                           columns=[f'PC{i+1}' for i in range(len(eigenvalues))])\n",
    "\n",
    "sns.heatmap(df_loadings, annot=False, cmap='coolwarm', center=0)\n",
    "plt.title('PCA Loadings')\n",
    "plt.show()\n",
    "### END SOLUTION"
   ]
  },
  {
   "cell_type": "markdown",
   "id": "1ccb7bd5",
   "metadata": {
    "nbgrader": {
     "grade": false,
     "grade_id": "cell-3975c6634a8728cd",
     "locked": true,
     "schema_version": 3,
     "solution": false,
     "task": false
    }
   },
   "source": [
    "### Q10. Interpret the loadings\n",
    "\n",
    "The loadings for PC1 load *positively* onto nearly all the features, except for `city-mpg` and `highway-mpg`. What might we conclude about the relationship of those last two dimensions to the other features? \n",
    "\n",
    "Record your answer in `ans10`.\n",
    "\n",
    "Options:\n",
    "\n",
    "- A. The other features are all positively correlated with car size overall, and are *negatively* correlated with miles per gallon (mpg).\n",
    "- B. The other features are all negatively correlated with car size overall, and also *negatively* correlated with miles per gallon (mpg).\n",
    "- C. The other features are all positively correlated with car size overall, and are *positively* correlated with miles per gallon (mpg).\n",
    "- D. The other features are all negatively correlated with car size overall, and are *positively* correlated with miles per gallon (mpg)."
   ]
  },
  {
   "cell_type": "code",
   "execution_count": 19,
   "id": "67e195cb",
   "metadata": {
    "nbgrader": {
     "grade": false,
     "grade_id": "cell-d774686664ade88f",
     "locked": false,
     "schema_version": 3,
     "solution": true,
     "task": false
    }
   },
   "outputs": [],
   "source": [
    "### BEGIN SOLUTION\n",
    "ans10 = \"A\"\n",
    "### END SOLUTION"
   ]
  },
  {
   "cell_type": "code",
   "execution_count": 20,
   "id": "e6b037d0",
   "metadata": {
    "nbgrader": {
     "grade": true,
     "grade_id": "cell-a15ce8d3760239b6",
     "locked": true,
     "points": 1,
     "schema_version": 3,
     "solution": false,
     "task": false
    }
   },
   "outputs": [],
   "source": [
    "assert ans10 in [\"A\", \"B\", \"C\", \"D\"]\n",
    "### BEGIN HIDDEN TESTS\n",
    "assert ans10 == \"A\"\n",
    "### END HIDDEN TESTS"
   ]
  },
  {
   "cell_type": "markdown",
   "id": "5ba03b7e",
   "metadata": {
    "nbgrader": {
     "grade": false,
     "grade_id": "cell-e82695fe32cb643f",
     "locked": true,
     "schema_version": 3,
     "solution": false,
     "task": false
    }
   },
   "source": [
    "# Submit!\n",
    "\n",
    "Congratulations, you just implemented PCA from scratch and interpreted the loadings!"
   ]
  }
 ],
 "metadata": {
  "celltoolbar": "Create Assignment",
  "kernelspec": {
   "display_name": "Python 3 (clean)",
   "language": "python",
   "name": "python3_clean"
  },
  "language_info": {
   "codemirror_mode": {
    "name": "ipython",
    "version": 3
   },
   "file_extension": ".py",
   "mimetype": "text/x-python",
   "name": "python",
   "nbconvert_exporter": "python",
   "pygments_lexer": "ipython3",
   "version": "3.9.5"
  }
 },
 "nbformat": 4,
 "nbformat_minor": 5
}
