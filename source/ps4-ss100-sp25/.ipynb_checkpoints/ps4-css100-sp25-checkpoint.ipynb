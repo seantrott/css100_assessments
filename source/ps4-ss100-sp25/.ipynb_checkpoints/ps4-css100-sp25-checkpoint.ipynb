{
 "cells": [
  {
   "cell_type": "markdown",
   "id": "555f928d",
   "metadata": {
    "nbgrader": {
     "grade": false,
     "grade_id": "cell-9a63b85e8be80bd5",
     "locked": true,
     "schema_version": 3,
     "solution": false,
     "task": false
    }
   },
   "source": [
    "# Problem Set 4: CSS 100\n",
    "\n",
    "In this lab, you'll get hands-on practice understanding **neural networks**.\n",
    "\n",
    "This problem set will involve:\n",
    "\n",
    "- Building a simple neural network from scratch, in `numpy`. \n",
    "- Training a neural network using `pytorch`. "
   ]
  },
  {
   "cell_type": "code",
   "execution_count": 1,
   "id": "4decbdfc",
   "metadata": {
    "nbgrader": {
     "grade": false,
     "grade_id": "cell-7a7096ddd267e9f3",
     "locked": true,
     "schema_version": 3,
     "solution": false,
     "task": false
    }
   },
   "outputs": [],
   "source": [
    "### Make sure to run this code!\n",
    "import nltk\n",
    "import seaborn as sns\n",
    "import numpy as np\n",
    "import matplotlib.pyplot as plt\n",
    "import pandas as pd\n",
    "import torch"
   ]
  },
  {
   "cell_type": "markdown",
   "id": "7a247e08",
   "metadata": {
    "nbgrader": {
     "grade": false,
     "grade_id": "cell-d0e1a63dc2652ebe",
     "locked": true,
     "schema_version": 3,
     "solution": false,
     "task": false
    }
   },
   "source": [
    "## Part 1: Building a network from scratch\n",
    "\n",
    "In this part of the problem set, you'll build your own neural network classifier, from scratch, using `numpy`. \n",
    "\n",
    "Although this neural network will be relatively simple, building it from scratch will familiarize you with the details of how neural networks work.\n",
    "\n",
    "Our simple neural network will have the following structure:\n",
    "\n",
    "- Inputs: $x_1$ and $x_2$.\n",
    "- Outputs: `1` or `0`. \n",
    "- Weights: $w_1$ and $w_2$, along with bias term $b$. \n",
    "\n",
    "You'll implement the following **components**:\n",
    "\n",
    "- A `multiply_weights` function, which multiplies the weights $w_1, w_2$ by our inputs $x_1, x_2$ for some observation and adds a bias $b$.\n",
    "- An *activation function*, which applies the `sigmoid` function to some input. \n"
   ]
  },
  {
   "cell_type": "code",
   "execution_count": 29,
   "id": "dda51f5f",
   "metadata": {
    "nbgrader": {
     "grade": false,
     "grade_id": "cell-e939a20a8bcd8960",
     "locked": true,
     "schema_version": 3,
     "solution": false,
     "task": false
    }
   },
   "outputs": [],
   "source": [
    "### Run this code!\n",
    "X = np.array([[1.5, 1],\n",
    "             [1.4, 1],\n",
    "             [2, 3.5],\n",
    "             [3.1, 3.5]])\n",
    "Y = np.array([0, 0, 1, 1])"
   ]
  },
  {
   "cell_type": "markdown",
   "id": "7a867a98",
   "metadata": {
    "nbgrader": {
     "grade": false,
     "grade_id": "cell-c50f0000259fc86c",
     "locked": true,
     "schema_version": 3,
     "solution": false,
     "task": false
    }
   },
   "source": [
    "### Q1. Multiply inputs by weights vector\n",
    "\n",
    "The first step in a neural network is to multiply the inputs by our **weights** using the *dot product*, then add a **bias** term.\n",
    "\n",
    "Write a function called `multiply_weights`, which:\n",
    "\n",
    "- Takes as input an `input_vector`, a vector of `weights`, and a `bias` term.\n",
    "- Computes the *dot product* between `input_vector` and `weights`. \n",
    "- Adds the `bias` term.\n",
    "\n",
    "Mathematically, this can be described as follows:\n",
    "\n",
    "$$z=w⋅x+b$$"
   ]
  },
  {
   "cell_type": "code",
   "execution_count": 3,
   "id": "0e6abf08",
   "metadata": {
    "nbgrader": {
     "grade": false,
     "grade_id": "cell-1a67a2f529209d65",
     "locked": false,
     "schema_version": 3,
     "solution": true,
     "task": false
    }
   },
   "outputs": [],
   "source": [
    "### BEGIN SOLUTION\n",
    "def multiply_weights(input_vector, weights, bias):\n",
    "    return np.dot(input_vector, weights) + bias\n",
    "### END SOLUTION"
   ]
  },
  {
   "cell_type": "code",
   "execution_count": 4,
   "id": "57734b0c",
   "metadata": {
    "nbgrader": {
     "grade": true,
     "grade_id": "cell-f327a766a7575bf9",
     "locked": true,
     "points": 2,
     "schema_version": 3,
     "solution": false,
     "task": false
    }
   },
   "outputs": [],
   "source": [
    "### contains at least one hidden test\n",
    "assert multiply_weights\n",
    "\n",
    "### Example\n",
    "input_vector = np.array([1.66, 1.56])\n",
    "weights_1 = np.array([1.45, -0.66])\n",
    "bias = 0\n",
    "\n",
    "assert multiply_weights(input_vector, weights_1, bias) == 1.3774\n",
    "\n",
    "### BEGIN HIDDEN TESTS\n",
    "weights_2 = np.array([1, 2])\n",
    "assert multiply_weights(input_vector, weights_2, bias) == 4.78\n",
    "### END HIDDEN TESTS"
   ]
  },
  {
   "cell_type": "markdown",
   "id": "99e97530",
   "metadata": {
    "nbgrader": {
     "grade": false,
     "grade_id": "cell-0b83a2bf50658587",
     "locked": true,
     "schema_version": 3,
     "solution": false,
     "task": false
    }
   },
   "source": [
    "### Q2. Understanding the *activation function*\n",
    "\n",
    "Recall that the inputs to a given layer are passed through an *activation function*, after applying `multiply_weights`.\n",
    "\n",
    "In this problem set, we'll use a `sigmoid` activation function, which is defined as follows:\n",
    "\n",
    "$$S(x) = \\frac{1}{1 + e^{-x}}$$\n",
    "\n",
    "Write a function called `sigmoid` that implements this activation function on some input `x`.\n",
    "\n",
    "**Reflect**: How does `sigmoid` behave for *negative* inputs vs. *positive* inputs?"
   ]
  },
  {
   "cell_type": "code",
   "execution_count": 5,
   "id": "9a5ebc96",
   "metadata": {
    "nbgrader": {
     "grade": false,
     "grade_id": "cell-592643b6c2f56119",
     "locked": false,
     "schema_version": 3,
     "solution": true,
     "task": false
    }
   },
   "outputs": [],
   "source": [
    "### BEGIN SOLUTION\n",
    "def sigmoid(x):\n",
    "    return 1 / (1 + np.exp(-x))\n",
    "### END SOLUTION"
   ]
  },
  {
   "cell_type": "code",
   "execution_count": 6,
   "id": "acffbe38",
   "metadata": {
    "nbgrader": {
     "grade": true,
     "grade_id": "cell-c3b44205d209be35",
     "locked": true,
     "points": 2,
     "schema_version": 3,
     "solution": false,
     "task": false
    }
   },
   "outputs": [],
   "source": [
    "assert sigmoid\n",
    "\n",
    "assert sigmoid(0) == 0.5\n",
    "assert round(sigmoid(-1), 2) == 0.27\n",
    "assert round(sigmoid(-2), 2) == 0.12\n",
    "assert round(sigmoid(1), 2) == 0.73\n",
    "assert round(sigmoid(2), 2) == 0.88"
   ]
  },
  {
   "cell_type": "markdown",
   "id": "b6b71114",
   "metadata": {
    "nbgrader": {
     "grade": false,
     "grade_id": "cell-9676f548736e2353",
     "locked": true,
     "schema_version": 3,
     "solution": false,
     "task": false
    }
   },
   "source": [
    "### Q3. Implement a *decision function*\n",
    "\n",
    "Now, we'll implement `decision(x)`, which decides whether our network produces a `1` or a `0`. \n",
    "\n",
    "- If `x > .5`, output `1`. \n",
    "- If `x <= .5`, output `0`."
   ]
  },
  {
   "cell_type": "code",
   "execution_count": 7,
   "id": "e770a55c",
   "metadata": {
    "nbgrader": {
     "grade": false,
     "grade_id": "cell-53dc5bec245cc5d0",
     "locked": false,
     "schema_version": 3,
     "solution": true,
     "task": false
    }
   },
   "outputs": [],
   "source": [
    "### BEGIN SOLUTION\n",
    "def decision(x):\n",
    "    if x > .5:\n",
    "        return 1\n",
    "    return 0\n",
    "### END SOLUTION"
   ]
  },
  {
   "cell_type": "code",
   "execution_count": 8,
   "id": "1e25c8db",
   "metadata": {
    "nbgrader": {
     "grade": true,
     "grade_id": "cell-70d51ab996c0c0fb",
     "locked": true,
     "points": 2,
     "schema_version": 3,
     "solution": false,
     "task": false
    }
   },
   "outputs": [],
   "source": [
    "assert decision\n",
    "assert decision(.4) == 0\n",
    "assert decision(.8) == 1\n",
    "\n",
    "assert decision(sigmoid(-1)) == 0\n",
    "assert decision(sigmoid(1)) == 1"
   ]
  },
  {
   "cell_type": "markdown",
   "id": "56d44dc4",
   "metadata": {
    "nbgrader": {
     "grade": false,
     "grade_id": "cell-56631be9825f4b89",
     "locked": true,
     "schema_version": 3,
     "solution": false,
     "task": false
    }
   },
   "source": [
    "### Q4. Write a `make_prediction` function\n",
    "\n",
    "Now, let's put that all together in a `make_prediction` function.\n",
    "\n",
    "- This function takes as input an `input_vector`, `weights,` and `bias` (like `multiply_weights`).\n",
    "- It then applies `multiply_weights` by the input vector. \n",
    "- It then applies the `sigmoid` function to the output of `multiply_weights`.\n",
    "- Finally, it passes the result of `sigmoid` through `decision`.\n",
    "\n",
    "Mathematically, we can describe this function as follows:\n",
    "\n",
    "$$output=decision(S(w⋅x+b))$$"
   ]
  },
  {
   "cell_type": "code",
   "execution_count": 9,
   "id": "f10d3c70",
   "metadata": {
    "nbgrader": {
     "grade": false,
     "grade_id": "cell-0a167630df1bde1e",
     "locked": false,
     "schema_version": 3,
     "solution": true,
     "task": false
    }
   },
   "outputs": [],
   "source": [
    "### BEGIN SOLUTION\n",
    "def make_prediction(input_vector, weights, bias):\n",
    "    prod = multiply_weights(input_vector, weights, bias)\n",
    "    sig = sigmoid(prod)\n",
    "    return decision(sig)\n",
    "### END SOLUTION"
   ]
  },
  {
   "cell_type": "code",
   "execution_count": 10,
   "id": "3124a5fa",
   "metadata": {
    "nbgrader": {
     "grade": true,
     "grade_id": "cell-587ad528596a13e3",
     "locked": true,
     "points": 2,
     "schema_version": 3,
     "solution": false,
     "task": false
    }
   },
   "outputs": [],
   "source": [
    "### contains at least one hidden test\n",
    "\n",
    "### Example\n",
    "input_vector = np.array([1, 1])\n",
    "weights_1 = np.array([1, -1])\n",
    "bias = 0\n",
    "\n",
    "assert make_prediction(input_vector, weights_1, bias) == 0\n",
    "\n",
    "### BEGIN HIDDEN TESTS\n",
    "weights_2 = np.array([1, 1])\n",
    "assert make_prediction(input_vector, weights_2, bias) == 1\n",
    "### END HIDDEN TESTS"
   ]
  },
  {
   "cell_type": "markdown",
   "id": "4942bedb",
   "metadata": {
    "nbgrader": {
     "grade": false,
     "grade_id": "cell-27a0e92ea894d818",
     "locked": false,
     "schema_version": 3,
     "solution": false,
     "task": false
    }
   },
   "source": [
    "### Q5. Implement a `compute_mse` function\n",
    "\n",
    "Okay, we've now implemented the basic **architecture** of our neural network. It takes in inputs, weights, and a bias term, and outputs a predition: either `1` or `0`.\n",
    "\n",
    "But it doesn't yet **update** its weights. To do that, we'll need to have a function that computes its **prediction error**.\n",
    "\n",
    "We'll start by writing a `compute_mse` function, which calculates the **mean squared error** of a given *prediction* (`y_pred`) relative to the *ground truth* (`y_true`).\n",
    "\n",
    "MSE is defined:\n",
    "\n",
    "$${MSE} ={\\frac {1}{n}}\\sum _{i=1}^{n}\\left(Y_{i}-{\\hat {Y_{i}}}\\right)^{2}$$"
   ]
  },
  {
   "cell_type": "code",
   "execution_count": 11,
   "id": "eaa1aad0",
   "metadata": {
    "nbgrader": {
     "grade": false,
     "grade_id": "cell-52abb3b7e49e39b3",
     "locked": false,
     "schema_version": 3,
     "solution": true,
     "task": false
    }
   },
   "outputs": [],
   "source": [
    "### BEGIN SOLUTION\n",
    "def compute_mse(y_true, y_pred):\n",
    "    mse = np.mean((y_true - y_pred) ** 2)\n",
    "    return mse\n",
    "### END SOLUTION"
   ]
  },
  {
   "cell_type": "code",
   "execution_count": 12,
   "id": "c1e418ff",
   "metadata": {
    "nbgrader": {
     "grade": true,
     "grade_id": "cell-38db4dfb2e340f22",
     "locked": true,
     "points": 2,
     "schema_version": 3,
     "solution": false,
     "task": false
    }
   },
   "outputs": [],
   "source": [
    "assert compute_mse\n",
    "\n",
    "assert compute_mse(np.array([0, 1]), np.array([0, 1])) == 0\n",
    "assert compute_mse(np.array([0, 1]), np.array([1, 0])) == 1\n",
    "assert compute_mse(np.array([0.5, 0.5]), np.array([0.5, 0.5])) == 0\n",
    "assert compute_mse(np.array([0.5, 0.5]), np.array([0, 1])) == 0.25"
   ]
  },
  {
   "cell_type": "markdown",
   "id": "c1516315",
   "metadata": {},
   "source": [
    "### Q6. Make and evaluate predictions\n",
    "\n",
    "Before we go about **updating weights**, let's compare a few different `weight` vectors (assuming `bias = 0`). \n",
    "\n",
    "Using your training data above (`X` and `Y`) and the different `weight` vectors in `weight_vectors` below:\n",
    "\n",
    "- Derive a *prediction* for each `X` input and each `weight_vector`. \n",
    "- Compute the *error* for that prediction using the `compute_mse` function and the correct `Y` value.\n",
    "\n",
    "Finally, create a `scatterplot` showing:\n",
    "\n",
    "- x-axis: `w1` value\n",
    "- y-axis: `w2` value\n",
    "- hue: `mse`\n",
    "\n",
    "Looking at this scatterplot, can you identify a **region** of this \"error-space\" with the lowest error? What about the highest error?"
   ]
  },
  {
   "cell_type": "code",
   "execution_count": 69,
   "id": "3f3adf9a",
   "metadata": {
    "nbgrader": {
     "grade": false,
     "grade_id": "cell-e64fbdd9efa412b3",
     "locked": true,
     "schema_version": 3,
     "solution": false,
     "task": false
    }
   },
   "outputs": [],
   "source": [
    "### Your target weight vectors\n",
    "np.random.seed(42)\n",
    "weight_vectors = np.random.randn(10000, 2)\n",
    "bias = 0"
   ]
  },
  {
   "cell_type": "code",
   "execution_count": 70,
   "id": "3096b58a",
   "metadata": {
    "nbgrader": {
     "grade": true,
     "grade_id": "cell-076e5d5e506c4ae8",
     "locked": false,
     "points": 3,
     "schema_version": 3,
     "solution": true,
     "task": false
    },
    "scrolled": true
   },
   "outputs": [
    {
     "data": {
      "text/plain": [
       "<AxesSubplot:xlabel='w1', ylabel='w2'>"
      ]
     },
     "execution_count": 70,
     "metadata": {},
     "output_type": "execute_result"
    },
    {
     "data": {
      "image/png": "[encoded data removed]",
      "text/plain": [
       "<Figure size 432x288 with 1 Axes>"
      ]
     },
     "metadata": {
      "needs_background": "light"
     },
     "output_type": "display_data"
    }
   ],
   "source": [
    "### BEGIN SOLUTION\n",
    "results = []\n",
    "for wv in weight_vectors:\n",
    "    predictions = np.array([make_prediction(x, wv, bias) for x in X])\n",
    "    mse = compute_mse(Y, predictions)\n",
    "    \n",
    "    results.append({\n",
    "        'w1': wv[0],\n",
    "        'w2': wv[1],\n",
    "        'mse': mse\n",
    "    })\n",
    "df_results = pd.DataFrame(results)\n",
    "sns.scatterplot(data = df_results, x = 'w1', y = 'w2', hue = 'mse')\n",
    "### END SOLUTION"
   ]
  },
  {
   "cell_type": "markdown",
   "id": "7aeaf059",
   "metadata": {
    "nbgrader": {
     "grade": false,
     "grade_id": "cell-49f9697b451b0a10",
     "locked": true,
     "schema_version": 3,
     "solution": false,
     "task": false
    }
   },
   "source": [
    "### Q7. Update weights!\n",
    "\n",
    "Above, we did the equivalent of a **brute force grid search**: i.e., we *searched* a large space of weight combinations and looked at which ones resulted in the lowest error. This approach works, but isn't really computationally tractable for larger datasets or larger models. Now, we'll want to implement **gradient descent**.\n",
    "\n",
    "The gradient descent step involves updating the weights and bias to minimize the MSE. The update rule for weights $w$ and bias $b$ can be derived from the **partial derivatives** of the MSE: \n",
    "\n",
    "$$w=w−\\alpha⋅ \\frac{\\delta w}{\\delta MSE}$$\n",
    "\n",
    "$$w=b−\\alpha⋅ \\frac{\\delta b}{\\delta MSE}$$\n",
    "\n",
    "Where $\\alpha$ is the **learning rate**. \n",
    "\n",
    "As you can see above, updating the weights in this simple example actually just means subtracting the *derivative* of the MSE from the current weights. The derivative of the MSE is simply:\n",
    "\n",
    "$$2 * (\\hat{y} - y)$$\n",
    "\n",
    "Now, for this problem, consider the `input_vector`, `target` ($Y$), `weights_1`, and `bias` below:\n",
    "\n",
    "- Derive a `prediction` using `make_prediction`. \n",
    "- Calculate the derivative of $MSE$. \n",
    "- Subtract this number from `weights_1`; save this value in a variable called `updated_weights`. \n",
    "- Finally, generate a *new* prediction called `updated_prediction` using `updated_weights` instead of `weights_1`. \n",
    "  - Calculate an `updated_derivative` using this new `updated_prediction`. \n",
    "\n",
    "**Reflect**: What is the value of the `updated_weights` and is your new prediction correct?"
   ]
  },
  {
   "cell_type": "code",
   "execution_count": 86,
   "id": "3c5457d2",
   "metadata": {
    "nbgrader": {
     "grade": false,
     "grade_id": "cell-97134bac81a03eba",
     "locked": true,
     "schema_version": 3,
     "solution": false,
     "task": false
    }
   },
   "outputs": [],
   "source": [
    "### Run this code!\n",
    "input_vector = np.array([2, 1.5])\n",
    "target = 0\n",
    "weights_1 = np.array([1.45, -0.66])\n",
    "bias = 0"
   ]
  },
  {
   "cell_type": "code",
   "execution_count": 90,
   "id": "5a01a1ce",
   "metadata": {
    "nbgrader": {
     "grade": false,
     "grade_id": "cell-dde758b329cb8608",
     "locked": false,
     "schema_version": 3,
     "solution": true,
     "task": false
    }
   },
   "outputs": [],
   "source": [
    "### BEGIN SOLUTION\n",
    "prediction = make_prediction(input_vector, weights_1, bias)\n",
    "derivative = 2 * (prediction - target)\n",
    "updated_weights = weights_1 - derivative\n",
    "updated_prediction = make_prediction(input_vector, updated_weights, bias)\n",
    "updated_derivative = 2 * (updated_prediction - target)\n",
    "### END SOLUTION"
   ]
  },
  {
   "cell_type": "code",
   "execution_count": 95,
   "id": "aaad1ce5",
   "metadata": {
    "nbgrader": {
     "grade": true,
     "grade_id": "cell-fe440a8a97aa017a",
     "locked": true,
     "points": 2,
     "schema_version": 3,
     "solution": false,
     "task": false
    }
   },
   "outputs": [],
   "source": [
    "assert prediction == 1\n",
    "assert derivative == 2\n",
    "assert updated_prediction == 0\n",
    "assert updated_derivative == 0"
   ]
  },
  {
   "cell_type": "markdown",
   "id": "1bc0cfda",
   "metadata": {
    "nbgrader": {
     "grade": false,
     "grade_id": "cell-948c24f694bc3b7c",
     "locked": true,
     "schema_version": 3,
     "solution": false,
     "task": false
    }
   },
   "source": [
    "### Interim Summary\n",
    "\n",
    "In the above questions, you:\n",
    "\n",
    "- Built the architecture of a basic **neural network**. \n",
    "- Implemented a function to **calculate the prediction error**. \n",
    "- Got some hands-on experience learning how to **update the weights**.\n",
    "\n",
    "In reality, there are a few things we glossed over:\n",
    "\n",
    "- We assumed the *learning rate* $\\alpha$ was set to `1`. Typically, we'd want to **adjust** this. \n",
    "- We didn't walk through the full logic of **back-propagation**, which involves propagating the error through multiple layers of the network. \n",
    "\n",
    "However, hopefully you now have a better sense of how neural networks work under the hood!"
   ]
  },
  {
   "cell_type": "markdown",
   "id": "a2ef3df0",
   "metadata": {
    "nbgrader": {
     "grade": false,
     "grade_id": "cell-5883931b797f2305",
     "locked": true,
     "schema_version": 3,
     "solution": false,
     "task": false
    }
   },
   "source": [
    "## Submit!\n",
    "\n",
    "Congratulations! Don't forget to click validate and submit."
   ]
  }
 ],
 "metadata": {
  "celltoolbar": "Create Assignment",
  "kernelspec": {
   "display_name": "Python 3 (clean)",
   "language": "python",
   "name": "python3_clean"
  },
  "language_info": {
   "codemirror_mode": {
    "name": "ipython",
    "version": 3
   },
   "file_extension": ".py",
   "mimetype": "text/x-python",
   "name": "python",
   "nbconvert_exporter": "python",
   "pygments_lexer": "ipython3",
   "version": "3.9.5"
  }
 },
 "nbformat": 4,
 "nbformat_minor": 5
}
