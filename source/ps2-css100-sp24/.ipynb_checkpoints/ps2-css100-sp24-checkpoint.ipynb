{
 "cells": [
  {
   "cell_type": "markdown",
   "id": "e3f8134f",
   "metadata": {
    "nbgrader": {
     "grade": false,
     "grade_id": "cell-4ceaf8f4d277cad8",
     "locked": true,
     "schema_version": 3,
     "solution": false,
     "task": false
    }
   },
   "source": [
    "# Problem set 2\n",
    "\n",
    "This problem set will combine skills from a couple different course units:\n",
    "\n",
    "\n",
    "- **Natural Language Processing**: a simple sentiment analyzer in Python.  \n",
    "- **Resampling**: \n",
    "\n",
    "At a high-level, your goal will be to use *resampling methods* to make inferences about the distribution of sentiment scores in a dataset of reviews."
   ]
  },
  {
   "cell_type": "code",
   "execution_count": 39,
   "id": "8af4d351",
   "metadata": {
    "nbgrader": {
     "grade": false,
     "grade_id": "cell-57027c38a12a649b",
     "locked": true,
     "schema_version": 3,
     "solution": false,
     "task": false
    }
   },
   "outputs": [],
   "source": [
    "import pandas as pd\n",
    "import numpy as np\n",
    "import seaborn as sns\n",
    "import matplotlib.pyplot as plt\n",
    "\n",
    "from nltk.sentiment.vader import SentimentIntensityAnalyzer"
   ]
  },
  {
   "cell_type": "markdown",
   "id": "bb3cce92",
   "metadata": {
    "nbgrader": {
     "grade": false,
     "grade_id": "cell-1de30dc194263bca",
     "locked": true,
     "schema_version": 3,
     "solution": false,
     "task": false
    }
   },
   "source": [
    "### Q1: Read in `movie_reviews`\n",
    "\n",
    "Read in the file located in `data`, called `movie_reviews.csv`. Call this DataFrame `df_reviews`."
   ]
  },
  {
   "cell_type": "code",
   "execution_count": 7,
   "id": "c9209860",
   "metadata": {
    "nbgrader": {
     "grade": false,
     "grade_id": "cell-28f4723864b0186f",
     "locked": false,
     "schema_version": 3,
     "solution": true,
     "task": false
    }
   },
   "outputs": [],
   "source": [
    "### BEGIN SOLUTION\n",
    "df_reviews = pd.read_csv(\"data/movie_reviews.csv\")\n",
    "### END SOLUTION"
   ]
  },
  {
   "cell_type": "code",
   "execution_count": 10,
   "id": "dec1d3a9",
   "metadata": {
    "nbgrader": {
     "grade": true,
     "grade_id": "cell-741388b77c68f501",
     "locked": true,
     "points": 1,
     "schema_version": 3,
     "solution": false,
     "task": false
    }
   },
   "outputs": [],
   "source": [
    "assert len(df_reviews) == 5000\n",
    "assert 'label' in df_reviews.columns"
   ]
  },
  {
   "cell_type": "markdown",
   "id": "eca3712c",
   "metadata": {
    "nbgrader": {
     "grade": false,
     "grade_id": "cell-6bf5bb278bdaad33",
     "locked": true,
     "schema_version": 3,
     "solution": false,
     "task": false
    }
   },
   "source": [
    "### Q2: Analyze the *sentiment* of `text`\n",
    "\n",
    "Now, use the `SentimentIntensityAnalyzer` to produce a `compound` sentiment score for each review (located in the `text` column). Call this new column `text_sentiment`.\n",
    "\n",
    "**Note**: This may take a few seconds to run for all the rows in the `DataFrame`."
   ]
  },
  {
   "cell_type": "code",
   "execution_count": 11,
   "id": "9df59bae",
   "metadata": {
    "nbgrader": {
     "grade": false,
     "grade_id": "cell-a7d4bb3cb67aa3fd",
     "locked": false,
     "schema_version": 3,
     "solution": true,
     "task": false
    }
   },
   "outputs": [],
   "source": [
    "### BEGIN SOLUTION\n",
    "sia = SentimentIntensityAnalyzer()\n",
    "df_reviews['text_sentiment'] = df_reviews['text'].apply(lambda x: sia.polarity_scores(x)['compound'])\n",
    "### END SOLUTION"
   ]
  },
  {
   "cell_type": "code",
   "execution_count": 15,
   "id": "2d8a69a3",
   "metadata": {
    "nbgrader": {
     "grade": true,
     "grade_id": "cell-0f8aa4ebc824a25c",
     "locked": true,
     "points": 1,
     "schema_version": 3,
     "solution": false,
     "task": false
    }
   },
   "outputs": [],
   "source": [
    "assert 'text_sentiment' in df_reviews.columns\n",
    "\n",
    "assert df_reviews['text_sentiment'].mean() > 0.2\n",
    "assert df_reviews['text_sentiment'].median() > 0.8"
   ]
  },
  {
   "cell_type": "markdown",
   "id": "46ff1faa",
   "metadata": {
    "nbgrader": {
     "grade": false,
     "grade_id": "cell-12034820dcfd5cf0",
     "locked": true,
     "schema_version": 3,
     "solution": false,
     "task": false
    }
   },
   "source": [
    "### Q3: Calculate the mean `text_sentiment`\n",
    "\n",
    "Let's see how `SentimentIntensityAnalzyer` did. Use `groupby` to calculate the *mean* `text_sentiment` for each value of `label` (i.e., positive vs. negative reviews). Then, store these values in two variables:\n",
    "\n",
    "- `mean_pos_sentiment`: the mean `text_sentiment` assigned to reviews where `label == 1`.\n",
    "- `mean_neg_sentiment`: the mean `text_sentiment` assigned to reviews where `label == 0`.\n",
    "\n",
    "**Note**: Round your answers to the nearest 2 decimal points."
   ]
  },
  {
   "cell_type": "code",
   "execution_count": 18,
   "id": "8e7b6238",
   "metadata": {
    "nbgrader": {
     "grade": false,
     "grade_id": "cell-a8903eb51e38ada7",
     "locked": false,
     "schema_version": 3,
     "solution": true,
     "task": false
    }
   },
   "outputs": [],
   "source": [
    "### BEGIN SOLUTION\n",
    "df_grouped = df_reviews.groupby(\"label\").mean(\"text_sentiment\")\n",
    "mean_pos_sentiment = round(df_grouped['text_sentiment'][1], 2)\n",
    "mean_neg_sentiment = round(df_grouped['text_sentiment'][0], 2)\n",
    "### END SOLUTION"
   ]
  },
  {
   "cell_type": "code",
   "execution_count": 20,
   "id": "afb73d9a",
   "metadata": {
    "nbgrader": {
     "grade": true,
     "grade_id": "cell-031085788e51d2d8",
     "locked": true,
     "points": 1,
     "schema_version": 3,
     "solution": false,
     "task": false
    }
   },
   "outputs": [],
   "source": [
    "### This cell has at least one hidden test\n",
    "assert mean_pos_sentiment\n",
    "assert mean_neg_sentiment\n",
    "\n",
    "### BEGIN HIDDEN TESTS\n",
    "assert mean_neg_sentiment <= -0.07\n",
    "assert mean_pos_sentiment > 0.6\n",
    "### END HIDDEN TESTS"
   ]
  },
  {
   "cell_type": "markdown",
   "id": "adffc4f3",
   "metadata": {
    "nbgrader": {
     "grade": false,
     "grade_id": "cell-d4b745df4fdedf38",
     "locked": true,
     "schema_version": 3,
     "solution": false,
     "task": false
    }
   },
   "source": [
    "### Q4: Calculate a *test statistic*\n",
    "\n",
    "Now, let's calculate the *difference* between `mean_pos_sentiment` and `mean_neg_sentiment`. Call this new variable `true_mean_diff`."
   ]
  },
  {
   "cell_type": "code",
   "execution_count": 21,
   "id": "b8b2a892",
   "metadata": {
    "nbgrader": {
     "grade": false,
     "grade_id": "cell-51eb6979ab28f2fe",
     "locked": false,
     "schema_version": 3,
     "solution": true,
     "task": false
    }
   },
   "outputs": [],
   "source": [
    "### BEGIN SOLUTION\n",
    "true_mean_diff = mean_pos_sentiment - mean_neg_sentiment\n",
    "### END SOLUTION"
   ]
  },
  {
   "cell_type": "code",
   "execution_count": 25,
   "id": "814acc92",
   "metadata": {
    "nbgrader": {
     "grade": true,
     "grade_id": "cell-c64f51fbf7879139",
     "locked": true,
     "points": 1,
     "schema_version": 3,
     "solution": false,
     "task": false
    }
   },
   "outputs": [],
   "source": [
    "### This cell has at least one hidden test\n",
    "assert true_mean_diff\n",
    "\n",
    "### BEGIN HIDDEN TESTS\n",
    "assert true_mean_diff > 0.7\n",
    "### END HIDDEN TESTS"
   ]
  },
  {
   "cell_type": "markdown",
   "id": "4656b234",
   "metadata": {
    "nbgrader": {
     "grade": false,
     "grade_id": "cell-bf24c76d900af413",
     "locked": true,
     "schema_version": 3,
     "solution": false,
     "task": false
    }
   },
   "source": [
    "### Q5: Construct a *baseline*\n",
    "\n",
    "Is `true_mean_diff` a *big* difference? How would we know?\n",
    "\n",
    "One way to answer this question is to use a **permutation test** to construct a *baseline*. In this question:\n",
    "\n",
    "- Use `np.random.permutation` to create **1000** random permutations of the `label` column.  \n",
    "- For each permutation, calculate the difference between the sentiment for the shuffled positive and shuffled negative columns. Store these differences in a `list` called `permuted_diffs`. \n",
    "   - **Note**: As before, compare the mean difference for each label *after* rounding these means to the nearest two decimal places.\n"
   ]
  },
  {
   "cell_type": "code",
   "execution_count": 30,
   "id": "0374e61d",
   "metadata": {
    "nbgrader": {
     "grade": false,
     "grade_id": "cell-5b14cb4b4d25303b",
     "locked": true,
     "schema_version": 3,
     "solution": false,
     "task": false
    }
   },
   "outputs": [],
   "source": [
    "### Run this to ensure reproducibility\n",
    "np.random.seed(42)"
   ]
  },
  {
   "cell_type": "code",
   "execution_count": 31,
   "id": "5f62d872",
   "metadata": {
    "nbgrader": {
     "grade": false,
     "grade_id": "cell-3d1bedda62426692",
     "locked": false,
     "schema_version": 3,
     "solution": true,
     "task": false
    }
   },
   "outputs": [],
   "source": [
    "### BEGIN SOLUTION\n",
    "permuted_diffs = []\n",
    "for i in range(0, 1000):\n",
    "    df_reviews['shuffled_label'] = np.random.permutation(df_reviews['label'])\n",
    "    \n",
    "    df_grouped_baseline = df_reviews.groupby(\"shuffled_label\").mean(\"text_sentiment\")\n",
    "    mean_pos_sentiment_baseline = round(df_grouped_baseline['text_sentiment'][1], 2)\n",
    "    mean_neg_sentiment_baseline = round(df_grouped_baseline['text_sentiment'][0], 2)\n",
    "    random_diff = mean_pos_sentiment_baseline - mean_neg_sentiment_baseline\n",
    "    permuted_diffs.append(random_diff)\n",
    "### END SOLUTION"
   ]
  },
  {
   "cell_type": "code",
   "execution_count": 45,
   "id": "486faac3",
   "metadata": {
    "nbgrader": {
     "grade": true,
     "grade_id": "cell-9a338939307560e7",
     "locked": true,
     "points": 2,
     "schema_version": 3,
     "solution": false,
     "task": false
    }
   },
   "outputs": [],
   "source": [
    "assert permuted_diffs\n",
    "assert len(permuted_diffs) == 1000\n",
    "\n",
    "assert sum(permuted_diffs)/len(permuted_diffs) < .1\n",
    "assert sum(permuted_diffs)/len(permuted_diffs) > -.1"
   ]
  },
  {
   "cell_type": "markdown",
   "id": "395db5c1",
   "metadata": {
    "nbgrader": {
     "grade": false,
     "grade_id": "cell-2284e14dea173d44",
     "locked": true,
     "schema_version": 3,
     "solution": false,
     "task": false
    }
   },
   "source": [
    "### Q6: Visually compare your baseline\n",
    "\n",
    "Make a plot comparing the distribution of `permuted_diffs` to `true_mean_diff` (i.e., a histogram of the random permutations with a vertical line representing `true_mean_diff`)."
   ]
  },
  {
   "cell_type": "code",
   "execution_count": 51,
   "id": "e7a00790",
   "metadata": {
    "nbgrader": {
     "grade": true,
     "grade_id": "cell-d08e8b5f25b94606",
     "locked": false,
     "points": 2,
     "schema_version": 3,
     "solution": true,
     "task": false
    }
   },
   "outputs": [
    {
     "data": {
      "text/plain": [
       "<matplotlib.lines.Line2D at 0x7f028589b5e0>"
      ]
     },
     "execution_count": 51,
     "metadata": {},
     "output_type": "execute_result"
    },
    {
     "data": {
      "image/png": "[encoded data removed]",
      "text/plain": [
       "<Figure size 432x288 with 1 Axes>"
      ]
     },
     "metadata": {
      "needs_background": "light"
     },
     "output_type": "display_data"
    }
   ],
   "source": [
    "### BEGIN SOLUTION\n",
    "sns.histplot(permuted_diffs, bins = 10)\n",
    "plt.xlabel(\"Difference in means (permuted vs. real)\")\n",
    "plt.axvline(x=true_mean_diff, linestyle = \"dotted\")\n",
    "### END SOLUTION"
   ]
  },
  {
   "cell_type": "markdown",
   "id": "d59cc645",
   "metadata": {
    "nbgrader": {
     "grade": false,
     "grade_id": "cell-03036d92198ef464",
     "locked": true,
     "schema_version": 3,
     "solution": false,
     "task": false
    }
   },
   "source": [
    "### Q7: Calculate a p-value\n",
    "\n",
    "Now, what *proportion* of values from your baseline have an *absolute value* at least as large as the *absolute value* of `true_mean_diff`? Store this value in a variable called `prop_baseline`."
   ]
  },
  {
   "cell_type": "code",
   "execution_count": 78,
   "id": "69613551",
   "metadata": {
    "nbgrader": {
     "grade": false,
     "grade_id": "cell-ebcb673a287c30e1",
     "locked": false,
     "schema_version": 3,
     "solution": true,
     "task": false
    }
   },
   "outputs": [],
   "source": [
    "### BEGIN SOLUTION\n",
    "prop_baseline = len([i for i in permuted_diffs if abs(i) >= abs(true_mean_diff)])/len(permuted_diffs)\n",
    "### END SOLUTION"
   ]
  },
  {
   "cell_type": "code",
   "execution_count": 79,
   "id": "cf7d27ff",
   "metadata": {
    "nbgrader": {
     "grade": true,
     "grade_id": "cell-ee670e1b2ce1e381",
     "locked": true,
     "points": 1,
     "schema_version": 3,
     "solution": false,
     "task": false
    }
   },
   "outputs": [],
   "source": [
    "### This cell has at least one hidden test\n",
    "assert prop_baseline != 1\n",
    "\n",
    "### BEGIN HIDDEN TESTS\n",
    "assert prop_baseline == 0\n",
    "### END HIDDEN TESTS"
   ]
  },
  {
   "cell_type": "markdown",
   "id": "9ec17a65",
   "metadata": {
    "nbgrader": {
     "grade": false,
     "grade_id": "cell-b8945b5856a6aa35",
     "locked": true,
     "schema_version": 3,
     "solution": false,
     "task": false
    }
   },
   "source": [
    "### Q8: Replicate Q4-Q5, using `std`\n",
    "\n",
    "One of the advantages of permutation tests is that we can compare things besides the `mean`. Here, let's compare the *variance* of sentiment scores for positive and negative reviews. \n",
    "\n",
    "Replicate the steps taken in Q4-Q5, but instead of using the `mean` as your *test statistic*, use the `std` (standard deviation). \n",
    "\n",
    "- Call the true difference in standard deviation across pos/neg `true_std_diff`. (Make sure to round each one to 2 decimal places before calculating this.)\n",
    "- Call the distribution of permuted differences `permuted_std_diffs`.  \n",
    "\n",
    "**Note**: The syntax for calculating the `std` will be a little different:\n",
    "\n",
    "```python\n",
    "dataframe.groupby(\"col_to_group_by\")['col_to_calculate_sd'].std()\n",
    "```"
   ]
  },
  {
   "cell_type": "code",
   "execution_count": 80,
   "id": "86dbaff9",
   "metadata": {
    "nbgrader": {
     "grade": false,
     "grade_id": "cell-3a4e2734a883ae77",
     "locked": true,
     "schema_version": 3,
     "solution": false,
     "task": false
    }
   },
   "outputs": [],
   "source": [
    "### Run this to ensure reproducibility\n",
    "np.random.seed(42)"
   ]
  },
  {
   "cell_type": "code",
   "execution_count": 81,
   "id": "046d0c4f",
   "metadata": {
    "nbgrader": {
     "grade": false,
     "grade_id": "cell-2d95e2c4b3485b9d",
     "locked": false,
     "schema_version": 3,
     "solution": true,
     "task": false
    }
   },
   "outputs": [],
   "source": [
    "### BEGIN SOLUTION\n",
    "std_deviation = df_reviews.groupby(\"label\")['text_sentiment'].std()\n",
    "std_pos_sentiment = round(std_deviation[1], 2)\n",
    "std_neg_sentiment = round(std_deviation[0], 2)\n",
    "\n",
    "true_std_diff = std_pos_sentiment - std_neg_sentiment\n",
    "\n",
    "permuted_std_diffs = []\n",
    "for i in range(0, 1000):\n",
    "    df_reviews['shuffled_label'] = np.random.permutation(df_reviews['label'])\n",
    "    \n",
    "    std_deviation_baseline = df_reviews.groupby(\"shuffled_label\")['text_sentiment'].std()\n",
    "    std_pos_sentiment_baseline = round(std_deviation_baseline[1], 2)\n",
    "    std_neg_sentiment_baseline = round(std_deviation_baseline[0], 2)\n",
    "    random_diff = std_pos_sentiment_baseline - std_neg_sentiment_baseline\n",
    "    \n",
    "    permuted_std_diffs.append(random_diff)\n",
    "### END SOLUTION"
   ]
  },
  {
   "cell_type": "code",
   "execution_count": 82,
   "id": "9f772444",
   "metadata": {
    "nbgrader": {
     "grade": true,
     "grade_id": "cell-aaf3adc9f52b10c3",
     "locked": true,
     "points": 1,
     "schema_version": 3,
     "solution": false,
     "task": false
    }
   },
   "outputs": [],
   "source": [
    "### This cell has at least one hidden test\n",
    "assert true_std_diff\n",
    "\n",
    "### BEGIN HIDDEN TESTS\n",
    "assert true_std_diff < 0\n",
    "### END HIDDEN TESTS"
   ]
  },
  {
   "cell_type": "code",
   "execution_count": 83,
   "id": "15fe6009",
   "metadata": {
    "nbgrader": {
     "grade": true,
     "grade_id": "cell-4d81e586c77ec201",
     "locked": true,
     "points": 1,
     "schema_version": 3,
     "solution": false,
     "task": false
    }
   },
   "outputs": [],
   "source": [
    "### This cell has at least one hidden test\n",
    "assert len(permuted_std_diffs) == 1000\n",
    "\n",
    "### BEGIN HIDDEN TESTS\n",
    "assert sum(permuted_std_diffs)/len(permuted_std_diffs) > -.1 \n",
    "assert sum(permuted_std_diffs)/len(permuted_std_diffs) < .1 \n",
    "### END HIDDEN TESTS"
   ]
  },
  {
   "cell_type": "markdown",
   "id": "7b465309",
   "metadata": {
    "nbgrader": {
     "grade": false,
     "grade_id": "cell-7d2f864ee905d527",
     "locked": true,
     "schema_version": 3,
     "solution": false,
     "task": false
    }
   },
   "source": [
    "### Q9: Visual comparison of `std` metrics\n",
    "\n",
    "Now, as in Q6, create a **visual comparison** contrasting the `permuted_std_diffs` and `true_std_diff`. What do you notice?"
   ]
  },
  {
   "cell_type": "code",
   "execution_count": 84,
   "id": "12bc05bc",
   "metadata": {
    "nbgrader": {
     "grade": true,
     "grade_id": "cell-2ae4635936f39df0",
     "locked": false,
     "points": 2,
     "schema_version": 3,
     "solution": true,
     "task": false
    }
   },
   "outputs": [
    {
     "data": {
      "text/plain": [
       "<matplotlib.lines.Line2D at 0x7f02856701f0>"
      ]
     },
     "execution_count": 84,
     "metadata": {},
     "output_type": "execute_result"
    },
    {
     "data": {
      "image/png": "[encoded data removed]",
      "text/plain": [
       "<Figure size 432x288 with 1 Axes>"
      ]
     },
     "metadata": {
      "needs_background": "light"
     },
     "output_type": "display_data"
    }
   ],
   "source": [
    "### BEGIN SOLUTION\n",
    "sns.histplot(permuted_std_diffs, bins = 10)\n",
    "plt.xlabel(\"Difference in standard deviations (permuted vs. real)\")\n",
    "plt.axvline(x=true_std_diff, linestyle = \"dotted\")\n",
    "### END SOLUTION"
   ]
  },
  {
   "cell_type": "markdown",
   "id": "a0491a25",
   "metadata": {
    "nbgrader": {
     "grade": false,
     "grade_id": "cell-b7f6db6f7d866c07",
     "locked": true,
     "schema_version": 3,
     "solution": false,
     "task": false
    }
   },
   "source": [
    "### Q10: Calculate `prop_baseline_std`\n",
    "\n",
    "As in Q7, calculate the proportion of items in `permuted_diffs` with an *absolute value* at least as large as the *absolute value* of `true_std_diff`. Call this `prop_baseline_std`."
   ]
  },
  {
   "cell_type": "code",
   "execution_count": 85,
   "id": "e3f391be",
   "metadata": {
    "nbgrader": {
     "grade": false,
     "grade_id": "cell-594e6dd9a0eb8f58",
     "locked": false,
     "schema_version": 3,
     "solution": true,
     "task": false
    }
   },
   "outputs": [],
   "source": [
    "### BEGIN SOLUTION\n",
    "prop_baseline_std = len([i for i in permuted_std_diffs if abs(i) >= abs(true_std_diff)])/len(permuted_std_diffs)\n",
    "### END SOLUTION"
   ]
  },
  {
   "cell_type": "code",
   "execution_count": 88,
   "id": "99159b47",
   "metadata": {
    "nbgrader": {
     "grade": true,
     "grade_id": "cell-902e8e9c8c9078a8",
     "locked": true,
     "points": 1,
     "schema_version": 3,
     "solution": false,
     "task": false
    }
   },
   "outputs": [],
   "source": [
    "assert prop_baseline_std != 1\n",
    "assert prop_baseline_std < 1\n",
    "\n",
    "### BEGIN HIDDEN TESTS\n",
    "assert prop_baseline_std == 0\n",
    "### END HIDDEN TESTS"
   ]
  },
  {
   "cell_type": "markdown",
   "id": "4c7e2346",
   "metadata": {
    "nbgrader": {
     "grade": false,
     "grade_id": "cell-532bbdcc01b054b9",
     "locked": true,
     "schema_version": 3,
     "solution": false,
     "task": false
    }
   },
   "source": [
    "### Q11: Interpretation!\n",
    "\n",
    "Okay, now that you've done this for both the `mean` and `std` of your distributions: which of the following **interpretations** makes the most sense? Store your answer in a variable called `ans11`.\n",
    "\n",
    "- A) Positive reviews have a higher *mean* sentiment than negative reviews, and also exhibit more *variance*.\n",
    "- B) Positive reviews have a higher *mean* sentiment than negative reviews, but exhibit less *variance*.\n",
    "- C) Positive reviews have a lower *mean* sentiment than negative reviews, but exhibit more *variance*.\n",
    "- D) Positive reviews have a lower *mean* sentiment than negative reviews, and also exhibit less *variance*.  \n",
    "- E) There is no significant difference in either the *mean* or *variance* of sentiment across positive and negative reviews."
   ]
  },
  {
   "cell_type": "code",
   "execution_count": 90,
   "id": "389e300e",
   "metadata": {
    "nbgrader": {
     "grade": false,
     "grade_id": "cell-1fe86dd453b272b8",
     "locked": false,
     "schema_version": 3,
     "solution": true,
     "task": false
    }
   },
   "outputs": [],
   "source": [
    "### BEGIN SOLUTION\n",
    "ans11 = \"B\"\n",
    "### END SOLUTION"
   ]
  },
  {
   "cell_type": "code",
   "execution_count": 92,
   "id": "c9ebcb4e",
   "metadata": {
    "nbgrader": {
     "grade": true,
     "grade_id": "cell-393e673d58886125",
     "locked": true,
     "points": 1,
     "schema_version": 3,
     "solution": false,
     "task": false
    }
   },
   "outputs": [],
   "source": [
    "assert ans11\n",
    "assert ans11 in ['A', 'B', 'C', 'D', 'E']\n",
    "\n",
    "### BEGIN HIDDEN TESTS\n",
    "assert ans11 == \"B\"\n",
    "### END HIDDEN TESTS"
   ]
  },
  {
   "cell_type": "markdown",
   "id": "c32648bf",
   "metadata": {
    "nbgrader": {
     "grade": false,
     "grade_id": "cell-57b25ef313cecfe1",
     "locked": true,
     "schema_version": 3,
     "solution": false,
     "task": false
    }
   },
   "source": [
    "## Submit!\n",
    "\n",
    "Congratulations! \n",
    "\n",
    "In this problem set, you:\n",
    "\n",
    "- Deployed a **sentiment analysis** tool to a real dataset of movie reviews.  \n",
    "- Used **permutation tests** to compare two different *test statistics* (`mean` and `std`) characterizing the distribution of *text sentiment* across positive and negative reviews.  \n",
    "- **Interpreted** the results of those permutation tests.\n",
    "\n",
    "Don't forget to validate and submit!"
   ]
  }
 ],
 "metadata": {
  "celltoolbar": "Create Assignment",
  "kernelspec": {
   "display_name": "Python 3 (clean)",
   "language": "python",
   "name": "python3_clean"
  },
  "language_info": {
   "codemirror_mode": {
    "name": "ipython",
    "version": 3
   },
   "file_extension": ".py",
   "mimetype": "text/x-python",
   "name": "python",
   "nbconvert_exporter": "python",
   "pygments_lexer": "ipython3",
   "version": "3.9.5"
  }
 },
 "nbformat": 4,
 "nbformat_minor": 5
}
