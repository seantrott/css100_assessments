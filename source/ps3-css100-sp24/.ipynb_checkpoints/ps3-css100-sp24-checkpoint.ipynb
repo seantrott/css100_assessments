{
 "cells": [
  {
   "cell_type": "markdown",
   "id": "555f928d",
   "metadata": {
    "nbgrader": {
     "grade": false,
     "grade_id": "cell-9a63b85e8be80bd5",
     "locked": true,
     "schema_version": 3,
     "solution": false,
     "task": false
    }
   },
   "source": [
    "# Problem Set 3: CSS 100\n",
    "\n",
    "In this lab, you'll get hands-on practice understanding **classification techniques**.\n",
    "\n",
    "This will include:\n",
    "\n",
    "- Understanding the math behind **decision trees**.\n",
    "- Evaluating different **classifier** approaches.  "
   ]
  },
  {
   "cell_type": "code",
   "execution_count": 20,
   "id": "4decbdfc",
   "metadata": {
    "nbgrader": {
     "grade": false,
     "grade_id": "cell-7a7096ddd267e9f3",
     "locked": true,
     "schema_version": 3,
     "solution": false,
     "task": false
    }
   },
   "outputs": [],
   "source": [
    "### Make sure to run this code!\n",
    "import nltk\n",
    "import pandas as pd\n",
    "import seaborn as sns\n",
    "import numpy as np\n",
    "import math\n",
    "import matplotlib.pyplot as plt"
   ]
  },
  {
   "cell_type": "code",
   "execution_count": 21,
   "id": "52636b2f",
   "metadata": {
    "nbgrader": {
     "grade": false,
     "grade_id": "cell-60075c0dc157e602",
     "locked": true,
     "schema_version": 3,
     "solution": false,
     "task": false
    }
   },
   "outputs": [
    {
     "data": {
      "text/html": [
       "<div>\n",
       "<style scoped>\n",
       "    .dataframe tbody tr th:only-of-type {\n",
       "        vertical-align: middle;\n",
       "    }\n",
       "\n",
       "    .dataframe tbody tr th {\n",
       "        vertical-align: top;\n",
       "    }\n",
       "\n",
       "    .dataframe thead th {\n",
       "        text-align: right;\n",
       "    }\n",
       "</style>\n",
       "<table border=\"1\" class=\"dataframe\">\n",
       "  <thead>\n",
       "    <tr style=\"text-align: right;\">\n",
       "      <th></th>\n",
       "      <th>User ID</th>\n",
       "      <th>Gender</th>\n",
       "      <th>Age</th>\n",
       "      <th>EstimatedSalary</th>\n",
       "      <th>Purchased</th>\n",
       "    </tr>\n",
       "  </thead>\n",
       "  <tbody>\n",
       "    <tr>\n",
       "      <th>0</th>\n",
       "      <td>15624510</td>\n",
       "      <td>Male</td>\n",
       "      <td>19</td>\n",
       "      <td>19000</td>\n",
       "      <td>0</td>\n",
       "    </tr>\n",
       "    <tr>\n",
       "      <th>1</th>\n",
       "      <td>15810944</td>\n",
       "      <td>Male</td>\n",
       "      <td>35</td>\n",
       "      <td>20000</td>\n",
       "      <td>0</td>\n",
       "    </tr>\n",
       "    <tr>\n",
       "      <th>2</th>\n",
       "      <td>15668575</td>\n",
       "      <td>Female</td>\n",
       "      <td>26</td>\n",
       "      <td>43000</td>\n",
       "      <td>0</td>\n",
       "    </tr>\n",
       "  </tbody>\n",
       "</table>\n",
       "</div>"
      ],
      "text/plain": [
       "    User ID  Gender  Age  EstimatedSalary  Purchased\n",
       "0  15624510    Male   19            19000          0\n",
       "1  15810944    Male   35            20000          0\n",
       "2  15668575  Female   26            43000          0"
      ]
     },
     "execution_count": 21,
     "metadata": {},
     "output_type": "execute_result"
    }
   ],
   "source": [
    "# Make sure to run this code!\n",
    "df_ads = pd.read_csv(\"data/Social_Network_Ads.csv\")\n",
    "df_ads.head(3)"
   ]
  },
  {
   "cell_type": "markdown",
   "id": "2cd40919",
   "metadata": {
    "nbgrader": {
     "grade": false,
     "grade_id": "cell-44ba8e14e41065e6",
     "locked": true,
     "schema_version": 3,
     "solution": false,
     "task": false
    }
   },
   "source": [
    "## Part 1: Understanding decision trees\n",
    "\n",
    "In this section of the problem set, you'll implement (and interpret) some of the basic math behind decision trees, such as `entropy` and `information gain`."
   ]
  },
  {
   "cell_type": "markdown",
   "id": "c5e68f77",
   "metadata": {
    "nbgrader": {
     "grade": false,
     "grade_id": "cell-779a85c54197ac36",
     "locked": true,
     "schema_version": 3,
     "solution": false,
     "task": false
    }
   },
   "source": [
    "### Q1. Implement a `calculate_entropy` function\n",
    "\n",
    "Write a function called `calculate_entropy` which takes as input a `numpy.array` of probability values, and calculates the **entropy** of that distribution.\n",
    "\n",
    "Recall that entropy is defined as follows:\n",
    "\n",
    "$$Entropy =-\\sum _{k = 1}^K p(x_k)\\log p(x_k)$$\n",
    "\n",
    "A few notes:\n",
    "\n",
    "- You'll want to ignore any *zeroes* in the distribution\n",
    "- Use `numpy.log2` as the log base."
   ]
  },
  {
   "cell_type": "code",
   "execution_count": 22,
   "id": "ded01c0f",
   "metadata": {
    "nbgrader": {
     "grade": false,
     "grade_id": "cell-bfe0fd121285d89e",
     "locked": false,
     "schema_version": 3,
     "solution": true,
     "task": false
    }
   },
   "outputs": [],
   "source": [
    "### BEGIN SOLUTION\n",
    "def calculate_entropy(probabilities):\n",
    "    \"\"\"\n",
    "    Calculate the entropy of a probability distribution.\n",
    "\n",
    "    Args:\n",
    "    probabilities: A numpy array of probabilities.\n",
    "\n",
    "    Returns:\n",
    "    The entropy of the probability distribution.\n",
    "    \"\"\"\n",
    "    # Filter out zero probabilities to avoid log(0) warnings\n",
    "    non_zero_probs = probabilities[probabilities != 0]\n",
    "    \n",
    "    # Calculate entropy\n",
    "    entropy_value = -np.sum(non_zero_probs * np.log2(non_zero_probs))\n",
    "    return entropy_value\n",
    "### END SOLUTION"
   ]
  },
  {
   "cell_type": "code",
   "execution_count": 23,
   "id": "d8d6d4b5",
   "metadata": {
    "nbgrader": {
     "grade": true,
     "grade_id": "cell-d865647331c76e1a",
     "locked": true,
     "points": 2,
     "schema_version": 3,
     "solution": false,
     "task": false
    }
   },
   "outputs": [],
   "source": [
    "assert calculate_entropy\n",
    "\n",
    "p_original = np.array([.5, .5])\n",
    "p_new1 = np.array([.75, .25])\n",
    "p_new2 = np.array([.25, .75])\n",
    "\n",
    "assert calculate_entropy(p_original) == 1\n",
    "assert round(calculate_entropy(p_new1), 2) == 0.81\n",
    "assert round(calculate_entropy(p_new2), 2) == 0.81"
   ]
  },
  {
   "cell_type": "markdown",
   "id": "ad29c437",
   "metadata": {
    "nbgrader": {
     "grade": false,
     "grade_id": "cell-67eb9e1298d6b079",
     "locked": true,
     "schema_version": 3,
     "solution": false,
     "task": false
    }
   },
   "source": [
    "### Q2. Implement a `calculate_information_gain` function\n",
    "\n",
    "Write a function called `calculate_information_gain`, which:\n",
    "\n",
    "- Takes as input:\n",
    "   - `P_original`: the original probability distribution. \n",
    "   - `P_new1`: one of the new splits. \n",
    "   - `P_new2`: the other of the new splits. \n",
    "   - `D`: the size of the original dataset.  \n",
    "   - `D1`: the size of the first split. \n",
    "   - `D2`: the size of the second split. \n",
    "- Calculates the relative *information gain* between `P_original` and both `P_new_1` and `P_new_2`, weighted by their size `D1` and `D1` respectively.\n",
    "\n",
    "Recall that $IG$ in this case is defined as:\n",
    "\n",
    "$IG = Entropy(P_{original}) - (\\frac{|D_1|}{|D|} * Entropy(P_{new1}) + \\frac{|D_2|}{|D|} * Entropy(P_{new2}))$\n",
    "\n",
    "And $|D_1|$ and $D_2$ is the size of the split in question."
   ]
  },
  {
   "cell_type": "code",
   "execution_count": 24,
   "id": "5628dcad",
   "metadata": {
    "nbgrader": {
     "grade": false,
     "grade_id": "cell-dfeac64bb53562c5",
     "locked": false,
     "schema_version": 3,
     "solution": true,
     "task": false
    }
   },
   "outputs": [],
   "source": [
    "### BEGIN SOLUTION\n",
    "def calculate_information_gain(P_original, P_new1, P_new2, D, D1, D2):\n",
    "    \"\"\"\n",
    "    Calculate the relative information gain between P_original and both P_new1 and P_new2,\n",
    "    weighted by their size D1 and D2 respectively.\n",
    "\n",
    "    Args:\n",
    "    P_original: The original probability distribution.\n",
    "    P_new1: The probability distribution of the first split.\n",
    "    P_new2: The probability distribution of the second split.\n",
    "    D: The size of the original dataset.\n",
    "    D1: The size of the first split.\n",
    "    D2: The size of the second split.\n",
    "\n",
    "    Returns:\n",
    "    The relative information gain between P_original and both P_new1 and P_new2.\n",
    "    \"\"\"\n",
    "    # Calculate entropy of original distribution\n",
    "    entropy_original = calculate_entropy(P_original)\n",
    "\n",
    "    # Calculate entropy of each split\n",
    "    entropy_new1 = calculate_entropy(P_new1)\n",
    "    entropy_new2 = calculate_entropy(P_new2)\n",
    "\n",
    "    # Calculate weighted average of entropies of splits\n",
    "    weighted_entropy_splits = (D1/D) * entropy_new1 + (D2/D) * entropy_new2\n",
    "\n",
    "    # Calculate relative information gain\n",
    "    information_gain = entropy_original - weighted_entropy_splits\n",
    "\n",
    "    return information_gain\n",
    "### END SOLUTION"
   ]
  },
  {
   "cell_type": "code",
   "execution_count": 25,
   "id": "51c95c85",
   "metadata": {
    "nbgrader": {
     "grade": true,
     "grade_id": "cell-5c01551e6902e1c5",
     "locked": true,
     "points": 3,
     "schema_version": 3,
     "solution": false,
     "task": false
    }
   },
   "outputs": [],
   "source": [
    "### At least one hidden test\n",
    "assert calculate_information_gain\n",
    "\n",
    "## Set up for first test\n",
    "p_original = np.array([.5, .5])\n",
    "p_new1 = np.array([.75, .25])\n",
    "p_new2 = np.array([.25, .75])\n",
    "D = 100\n",
    "D1 = 50\n",
    "D2 = 50\n",
    "\n",
    "assert round(calculate_information_gain(p_original, p_new1, p_new2, 100, D1, D2), 2) == 0.19\n",
    "\n",
    "### BEGIN HIDDEN TESTS\n",
    "p_original = np.array([.5, .5])\n",
    "p_new1 = np.array([.8, .2])\n",
    "p_new2 = np.array([.2, .8])\n",
    "D = 100\n",
    "D1 = 50\n",
    "D2 = 50\n",
    "assert round(calculate_information_gain(p_original, p_new1, p_new2, 100, D1, D2), 2) == 0.28\n",
    "### END HIDDEN TESTS"
   ]
  },
  {
   "cell_type": "markdown",
   "id": "76e91d05",
   "metadata": {
    "nbgrader": {
     "grade": false,
     "grade_id": "cell-993b5ac5ab39d682",
     "locked": true,
     "schema_version": 3,
     "solution": false,
     "task": false
    }
   },
   "source": [
    "### Q3. Implement a `try_splits` function\n",
    "\n",
    "Now, write a function called `try_splits` that will take as input:\n",
    "\n",
    "- `X`: a feature. \n",
    "- `Y`: an array of response values (e.g., `1` vs. `0`). \n",
    "\n",
    "This function should try out various *splits* of $X$. For each unique value of $X$, the function should calculate the **information gain** between the original `entropy` of $Y$ and the new splits. The function should `return` a `DataFrame` with a column for `split_location` (where the split was done on $X$) and `information_gain` (the information gain of that split). \n",
    "\n",
    "**Hints**:\n",
    "\n",
    "1. You'll first want to get the unique values of `X` using `set`.  \n",
    "2. For each unique value of `X`, try splitting `Y`.  \n",
    "3. Then, you'll compare the information gain for each of these splits to the original distribution $Y$ using `calculate_information_gain`.\n",
    "\n",
    "You can implement steps 2-3 in a few ways, but this is what I did for part of the problem:\n",
    "\n",
    "```python\n",
    "Y_left = Y[X <= split]\n",
    "P_left = np.array([(Y_left == val).mean() for val in set(Y)])\n",
    "```\n",
    "\n",
    "Where `split` is some value of `X`.\n",
    "\n",
    "**Note**: You'll probably also want to skip splits where either of the splits results in a split of size 0, e.g.,:\n",
    "\n",
    "```python\n",
    "if len(Y_left) == 0 or len(Y_right) == 0:\n",
    "    continue  # Skip this split if either side is empty\n",
    "\n",
    "```"
   ]
  },
  {
   "cell_type": "code",
   "execution_count": 31,
   "id": "8254bbb8",
   "metadata": {
    "nbgrader": {
     "grade": false,
     "grade_id": "cell-02c64672191118c8",
     "locked": false,
     "schema_version": 3,
     "solution": true,
     "task": false
    }
   },
   "outputs": [],
   "source": [
    "### BEGIN SOLUTION\n",
    "def try_splits(X, Y):\n",
    "    \"\"\"\n",
    "    Try out various splits of X. For each split, calculate the information gain\n",
    "    between the original entropy of Y and the new splits.\n",
    "\n",
    "    Args:\n",
    "    X: A feature.\n",
    "    Y: An array of response values.\n",
    "\n",
    "    Returns:\n",
    "    A DataFrame with columns for split and information_gain.\n",
    "    \"\"\"\n",
    "    result = []\n",
    "    \n",
    "    # Sort the feature values\n",
    "    unique_values = sorted(set(X))\n",
    "    \n",
    "    # Iterate over each unique value as a potential split point\n",
    "    for split in unique_values:\n",
    "        # split = (unique_values[i - 1] + unique_values[i]) / 2.0\n",
    "                \n",
    "        # Split the data based on the current split point\n",
    "        Y_left = Y[X <= split]\n",
    "        Y_right = Y[X > split]\n",
    "        \n",
    "        if len(Y_left) == 0 or len(Y_right) == 0:\n",
    "            continue  # Skip this split if either side is empty\n",
    "        \n",
    "        # Calculate probabilities for original and split datasets\n",
    "        P_original = np.array([(Y == val).mean() for val in set(Y)])\n",
    "        P_left = np.array([(Y_left == val).mean() for val in set(Y)])\n",
    "        P_right = np.array([(Y_right == val).mean() for val in set(Y)])\n",
    "        \n",
    "        # Calculate sizes of datasets\n",
    "        D = len(Y)\n",
    "        D_left = len(Y_left)\n",
    "        D_right = len(Y_right)\n",
    "        \n",
    "        # Calculate information gain for the current split\n",
    "        information_gain = calculate_information_gain(P_original, P_left, P_right, D, D_left, D_right)\n",
    "        \n",
    "        # Append the result to the list\n",
    "        result.append({'split': split, 'information_gain': information_gain})\n",
    "    \n",
    "    # Convert the result list to a DataFrame\n",
    "    result_df = pd.DataFrame(result)\n",
    "    \n",
    "    return result_df\n",
    "### END SOLUTION"
   ]
  },
  {
   "cell_type": "code",
   "execution_count": 32,
   "id": "8a32db58",
   "metadata": {
    "nbgrader": {
     "grade": true,
     "grade_id": "cell-d42128ff6f0ef5ac",
     "locked": true,
     "points": 1,
     "schema_version": 3,
     "solution": false,
     "task": false
    }
   },
   "outputs": [],
   "source": [
    "assert try_splits\n",
    "\n",
    "results_df = try_splits(df_ads['EstimatedSalary'].values, df_ads['Purchased'].values)\n",
    "assert \"split\" in results_df.columns\n",
    "assert \"information_gain\" in results_df.columns"
   ]
  },
  {
   "cell_type": "code",
   "execution_count": 33,
   "id": "0a895533",
   "metadata": {
    "nbgrader": {
     "grade": true,
     "grade_id": "cell-1a935497d8f9410b",
     "locked": true,
     "points": 2,
     "schema_version": 3,
     "solution": false,
     "task": false
    }
   },
   "outputs": [],
   "source": [
    "### Contains at least one hidden test\n",
    "assert round(results_df['information_gain'].max(), 2) > 0.2\n",
    "assert results_df['split'][results_df['information_gain'].argmax()] == 89000"
   ]
  },
  {
   "cell_type": "markdown",
   "id": "6b77f5d2",
   "metadata": {
    "nbgrader": {
     "grade": false,
     "grade_id": "cell-ef131f160e0280ea",
     "locked": true,
     "schema_version": 3,
     "solution": false,
     "task": false
    }
   },
   "source": [
    "### Q4. Visualize `information_gain`\n",
    "\n",
    "Now, create a `lineplot` showing the relationship between `split` and `information_gain`. Is there a clear value of $X$ that maximizes information gain?"
   ]
  },
  {
   "cell_type": "code",
   "execution_count": 34,
   "id": "c05ca213",
   "metadata": {
    "nbgrader": {
     "grade": true,
     "grade_id": "cell-048fe83e138d737e",
     "locked": false,
     "points": 0,
     "schema_version": 3,
     "solution": true,
     "task": false
    }
   },
   "outputs": [
    {
     "data": {
      "text/plain": [
       "Text(0, 0.5, 'Information Gain')"
      ]
     },
     "execution_count": 34,
     "metadata": {},
     "output_type": "execute_result"
    },
    {
     "data": {
      "image/png": "[encoded data removed]",
      "text/plain": [
       "<Figure size 432x288 with 1 Axes>"
      ]
     },
     "metadata": {
      "needs_background": "light"
     },
     "output_type": "display_data"
    }
   ],
   "source": [
    "### BEGIN SOLUTION\n",
    "sns.lineplot(data = results_df, x = \"split\", y = \"information_gain\")\n",
    "plt.xlabel(\"Value of X\")\n",
    "plt.ylabel(\"Information Gain\")\n",
    "### END SOLUTION"
   ]
  },
  {
   "cell_type": "markdown",
   "id": "85c5bca3",
   "metadata": {
    "nbgrader": {
     "grade": false,
     "grade_id": "cell-c1d50d42c0afab66",
     "locked": true,
     "schema_version": 3,
     "solution": false,
     "task": false
    }
   },
   "source": [
    "## Part 2: Using decision trees in Python\n",
    "\n",
    "Now that you've gotten a sense of how the **splitting** process works, we can move on to using `sklearn`. This will allow us to compare different kinds of **tree-based classification methods**."
   ]
  },
  {
   "cell_type": "code",
   "execution_count": 35,
   "id": "86854957",
   "metadata": {
    "nbgrader": {
     "grade": false,
     "grade_id": "cell-37c3401457371201",
     "locked": true,
     "schema_version": 3,
     "solution": false,
     "task": false
    }
   },
   "outputs": [],
   "source": [
    "### Run this code!\n",
    "from sklearn.ensemble import RandomForestClassifier, BaggingClassifier\n",
    "from sklearn.tree import DecisionTreeClassifier\n",
    "\n",
    "from sklearn.model_selection import train_test_split\n",
    "from sklearn.metrics import accuracy_score"
   ]
  },
  {
   "cell_type": "markdown",
   "id": "7263f9fe",
   "metadata": {
    "nbgrader": {
     "grade": false,
     "grade_id": "cell-bd7b1a6f2775f7a2",
     "locked": true,
     "schema_version": 3,
     "solution": false,
     "task": false
    }
   },
   "source": [
    "### Q5. Create a `train_test_split`\n",
    "\n",
    "In this problem, use the `train_test_split` function to *split* your data. First:\n",
    "\n",
    "- Create your features $X$, using `EstimatedSalary` and `Age`.  \n",
    "- Create your response $Y$, using `Purchased`.  \n",
    "- Then, create train/test versions of each using `train_test_split`, with a random state of `42` and a `test_size` of `.33`. Call these `X_train, X_test, y_train, y_test`.\n",
    "\n",
    "Set `random_state = 42`"
   ]
  },
  {
   "cell_type": "code",
   "execution_count": 36,
   "id": "9ba7ea66",
   "metadata": {
    "nbgrader": {
     "grade": false,
     "grade_id": "cell-cdad92f2c7fe2d69",
     "locked": false,
     "schema_version": 3,
     "solution": true,
     "task": false
    }
   },
   "outputs": [],
   "source": [
    "### BEGIN SOLUTION\n",
    "X = df_ads[['EstimatedSalary', 'Age']].values\n",
    "y = df_ads['Purchased'].values\n",
    "\n",
    "X_train, X_test, y_train, y_test = train_test_split(\n",
    "    X, y, test_size=0.33, random_state=42)\n",
    "### END SOLUTION"
   ]
  },
  {
   "cell_type": "code",
   "execution_count": 37,
   "id": "b75d541a",
   "metadata": {
    "nbgrader": {
     "grade": true,
     "grade_id": "cell-852dd87fdf536db9",
     "locked": true,
     "points": 1,
     "schema_version": 3,
     "solution": false,
     "task": false
    }
   },
   "outputs": [],
   "source": [
    "assert len(X_train) == len(y_train)\n",
    "assert len(X_test) == len(y_test)"
   ]
  },
  {
   "cell_type": "markdown",
   "id": "fa63353e",
   "metadata": {
    "nbgrader": {
     "grade": false,
     "grade_id": "cell-ea100248ea492361",
     "locked": true,
     "schema_version": 3,
     "solution": false,
     "task": false
    }
   },
   "source": [
    "### Q6. Fit a `DecisionTreeClassifier`\n",
    "\n",
    "Now, fit a `DecisionTreeClassifier` to your training set, and generate predictions for your test set. Calculate the accuracy of your test set and call it `dt_test_acc`.\n",
    "\n",
    "For `DecisionTreeClassifier`, use the default parameters, except set `random_state = 42`."
   ]
  },
  {
   "cell_type": "code",
   "execution_count": 38,
   "id": "bef7516f",
   "metadata": {
    "nbgrader": {
     "grade": false,
     "grade_id": "cell-74afa0be1ddf88bb",
     "locked": false,
     "schema_version": 3,
     "solution": true,
     "task": false
    }
   },
   "outputs": [],
   "source": [
    "### BEGIN SOLUTION\n",
    "clf = DecisionTreeClassifier(random_state=42)\n",
    "\n",
    "clf.fit(X_train, y_train)\n",
    "y_pred = clf.predict(X_test)\n",
    "\n",
    "df_test_acc = accuracy_score(y_test, y_pred)\n",
    "### END SOLUTION"
   ]
  },
  {
   "cell_type": "code",
   "execution_count": 39,
   "id": "09a79cd7",
   "metadata": {
    "nbgrader": {
     "grade": true,
     "grade_id": "cell-68ea7f1b7b0117b7",
     "locked": true,
     "points": 2,
     "schema_version": 3,
     "solution": false,
     "task": false
    }
   },
   "outputs": [],
   "source": [
    "assert df_test_acc\n",
    "assert round(df_test_acc, 2) == 0.86"
   ]
  },
  {
   "cell_type": "markdown",
   "id": "0ec3b122",
   "metadata": {
    "nbgrader": {
     "grade": false,
     "grade_id": "cell-5b6a77e221434ce4",
     "locked": true,
     "schema_version": 3,
     "solution": false,
     "task": false
    }
   },
   "source": [
    "### Q7. Fit a `RandomForestClassifier`\n",
    "\n",
    "Now, fit a `RandomForestClassifier` to your training set, and generate predictions for your test set. Calculate the accuracy of your test set and call it `rf_test_acc`.\n",
    "\n",
    "For `RandomForestClassifier`, use the default parameters, except set `random_state = 42`."
   ]
  },
  {
   "cell_type": "code",
   "execution_count": 40,
   "id": "33fa3fbc",
   "metadata": {
    "nbgrader": {
     "grade": false,
     "grade_id": "cell-512265c9d49f6f0f",
     "locked": false,
     "schema_version": 3,
     "solution": true,
     "task": false
    }
   },
   "outputs": [],
   "source": [
    "### BEGIN SOLUTION\n",
    "clf = RandomForestClassifier(random_state=42)\n",
    "\n",
    "clf.fit(X_train, y_train)\n",
    "y_pred = clf.predict(X_test)\n",
    "\n",
    "rf_test_acc = accuracy_score(y_test, y_pred)\n",
    "### END SOLUTION"
   ]
  },
  {
   "cell_type": "code",
   "execution_count": 41,
   "id": "ddee60d3",
   "metadata": {
    "nbgrader": {
     "grade": true,
     "grade_id": "cell-296b8b8dfdf8e438",
     "locked": true,
     "points": 2,
     "schema_version": 3,
     "solution": false,
     "task": false
    }
   },
   "outputs": [],
   "source": [
    "assert rf_test_acc\n",
    "assert round(rf_test_acc, 2) == 0.90"
   ]
  },
  {
   "cell_type": "markdown",
   "id": "bcec8569",
   "metadata": {
    "nbgrader": {
     "grade": false,
     "grade_id": "cell-6da3e26d746a8cb0",
     "locked": true,
     "schema_version": 3,
     "solution": false,
     "task": false
    }
   },
   "source": [
    "### Q8. Fit a `BaggingClassifier`\n",
    "\n",
    "Now, fit a `BaggingClassifier` to your training set, and generate predictions for your test set. Calculate the accuracy of your test set and call it `bc_test_acc`.\n",
    "\n",
    "For `BaggingClassifier`, use the default parameters, except set `random_state = 42`."
   ]
  },
  {
   "cell_type": "code",
   "execution_count": 18,
   "id": "eb06179b",
   "metadata": {
    "nbgrader": {
     "grade": false,
     "grade_id": "cell-7f26ff4c3bc8019d",
     "locked": false,
     "schema_version": 3,
     "solution": true,
     "task": false
    }
   },
   "outputs": [],
   "source": [
    "### BEGIN SOLUTION\n",
    "clf = BaggingClassifier(random_state=42)\n",
    "\n",
    "clf.fit(X_train, y_train)\n",
    "y_pred = clf.predict(X_test)\n",
    "\n",
    "bc_test_acc = accuracy_score(y_test, y_pred)\n",
    "### END SOLUTION"
   ]
  },
  {
   "cell_type": "code",
   "execution_count": 19,
   "id": "c989e4e3",
   "metadata": {
    "nbgrader": {
     "grade": true,
     "grade_id": "cell-f16ec0b21d5765dc",
     "locked": true,
     "points": 2,
     "schema_version": 3,
     "solution": false,
     "task": false
    }
   },
   "outputs": [],
   "source": [
    "assert bc_test_acc\n",
    "assert round(bc_test_acc, 2) == 0.89"
   ]
  },
  {
   "cell_type": "markdown",
   "id": "a2ef3df0",
   "metadata": {
    "nbgrader": {
     "grade": false,
     "grade_id": "cell-5883931b797f2305",
     "locked": true,
     "schema_version": 3,
     "solution": false,
     "task": false
    }
   },
   "source": [
    "## Submit!\n",
    "\n",
    "Congratulations! You've now gotten some practice fitting various tree-based classifiers, and using them to predict data. Don't forget to click validate and submit."
   ]
  }
 ],
 "metadata": {
  "celltoolbar": "Create Assignment",
  "kernelspec": {
   "display_name": "Python 3 (clean)",
   "language": "python",
   "name": "python3_clean"
  },
  "language_info": {
   "codemirror_mode": {
    "name": "ipython",
    "version": 3
   },
   "file_extension": ".py",
   "mimetype": "text/x-python",
   "name": "python",
   "nbconvert_exporter": "python",
   "pygments_lexer": "ipython3",
   "version": "3.9.5"
  }
 },
 "nbformat": 4,
 "nbformat_minor": 5
}
