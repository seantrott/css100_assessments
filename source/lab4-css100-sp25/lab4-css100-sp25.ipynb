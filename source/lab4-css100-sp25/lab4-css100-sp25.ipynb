{
 "cells": [
  {
   "cell_type": "markdown",
   "id": "555f928d",
   "metadata": {
    "nbgrader": {
     "grade": false,
     "grade_id": "cell-9a63b85e8be80bd5",
     "locked": true,
     "schema_version": 3,
     "solution": false,
     "task": false
    }
   },
   "source": [
    "# Lab 4: CSS 100\n",
    "\n",
    "In this lab, you'll get hands-on practice using **regularization** techniques and understanding how regularization works.\n",
    "\n",
    "This will include:\n",
    "\n",
    "- Fitting Lasso/Ridge models using various `alpha` ($\\lambda$) values.  \n",
    "- Interpreting the *impact* of $\\lambda$ on the size of coefficients and model performance.  \n",
    "\n",
    "The goal is that you will walk away with a deeper understanding of how regularization actually works under the hood."
   ]
  },
  {
   "cell_type": "code",
   "execution_count": 89,
   "id": "4decbdfc",
   "metadata": {
    "nbgrader": {
     "grade": false,
     "grade_id": "cell-7a7096ddd267e9f3",
     "locked": true,
     "schema_version": 3,
     "solution": false,
     "task": false
    }
   },
   "outputs": [],
   "source": [
    "### Make sure to run this code!\n",
    "import nltk\n",
    "import pandas as pd\n",
    "import seaborn as sns\n",
    "import numpy as np\n",
    "import statsmodels.api as sm\n",
    "import matplotlib.pyplot as plt\n",
    "\n",
    "from sklearn.linear_model import Lasso, Ridge\n",
    "from sklearn.preprocessing import StandardScaler"
   ]
  },
  {
   "cell_type": "code",
   "execution_count": 90,
   "id": "cbeab158",
   "metadata": {
    "nbgrader": {
     "grade": false,
     "grade_id": "cell-6fc79d31184c47ee",
     "locked": true,
     "schema_version": 3,
     "solution": false,
     "task": false
    }
   },
   "outputs": [],
   "source": [
    "### Make sure to run this code\n",
    "df = pd.read_csv(\"data/housing.csv\")\n",
    "df = df.dropna()"
   ]
  },
  {
   "cell_type": "markdown",
   "id": "17a16d8c",
   "metadata": {
    "nbgrader": {
     "grade": false,
     "grade_id": "cell-a2b84eaac6f79428",
     "locked": true,
     "schema_version": 3,
     "solution": false,
     "task": false
    }
   },
   "source": [
    "## Part 1: Conceptual background\n",
    "\n",
    "In this section, we'll walk through the equations for Lasso and Ridge regression and try to understand the impact of particular values of $\\beta$ on the *cost* for a simplified scenario.\n",
    "\n",
    "Specifically, we'll look at what happens when $n = p = 1$, i.e., we have just one data point and just one predictor. This will help us build intuition. "
   ]
  },
  {
   "cell_type": "markdown",
   "id": "3ff0d607",
   "metadata": {
    "nbgrader": {
     "grade": false,
     "grade_id": "cell-27b30b471e02cc85",
     "locked": true,
     "schema_version": 3,
     "solution": false,
     "task": false
    }
   },
   "source": [
    "### Q1: Understanding the cost function for Ridge\n",
    "\n",
    "Assuming $n = p = $, the cost function for ridge regression simplifies to:\n",
    "\n",
    "$C_{ridge} = (y - \\beta)^2 + \\lambda*\\beta^2$ \n",
    "\n",
    "Assuming $y = 2$ and $\\lambda = 0$, create a **visualization** of how $C_{ridge}$ varies across coefficients ranging from $[-5, 5]$. \n"
   ]
  },
  {
   "cell_type": "code",
   "execution_count": 110,
   "id": "bff04fe6",
   "metadata": {
    "nbgrader": {
     "grade": false,
     "grade_id": "cell-f6aa35ded4fb467d",
     "locked": true,
     "schema_version": 3,
     "solution": false,
     "task": false
    }
   },
   "outputs": [],
   "source": [
    "### Set up betas\n",
    "betas = np.linspace(-5, 5, 101)"
   ]
  },
  {
   "cell_type": "code",
   "execution_count": 111,
   "id": "641ee8aa",
   "metadata": {
    "nbgrader": {
     "grade": true,
     "grade_id": "cell-325db64b06566e3e",
     "locked": false,
     "points": 1,
     "schema_version": 3,
     "solution": true,
     "task": false
    }
   },
   "outputs": [
    {
     "data": {
      "text/plain": [
       "Text(0, 0.5, 'Cost')"
      ]
     },
     "execution_count": 111,
     "metadata": {},
     "output_type": "execute_result"
    },
    {
     "data": {
      "image/png": "[encoded data removed]",
      "text/plain": [
       "<Figure size 432x288 with 1 Axes>"
      ]
     },
     "metadata": {
      "needs_background": "light"
     },
     "output_type": "display_data"
    }
   ],
   "source": [
    "### BEGIN SOLUTION\n",
    "y = 2\n",
    "cost = (y - betas)**2\n",
    "plt.plot(betas, cost)\n",
    "plt.xlabel(\"Beta\")\n",
    "plt.ylabel(\"Cost\")\n",
    "### END SOLUTION"
   ]
  },
  {
   "cell_type": "markdown",
   "id": "49d18541",
   "metadata": {
    "nbgrader": {
     "grade": false,
     "grade_id": "cell-ff86fe713a0d8779",
     "locked": true,
     "schema_version": 3,
     "solution": false,
     "task": false
    }
   },
   "source": [
    "### Q2: What's the optimal $\\beta$?\n",
    "\n",
    "Given the cost function above, what is the optimal value of $\\beta$? That is, which value of $\\beta$ **minimizes** the cost function?\n",
    "\n",
    "Hint: use the `argmin` function on your *cost* array to figure out the index of the lowest cost, then use that to figure out which `beta` was best."
   ]
  },
  {
   "cell_type": "code",
   "execution_count": 112,
   "id": "2af20dd2",
   "metadata": {
    "nbgrader": {
     "grade": false,
     "grade_id": "cell-e7ac1b0416a0c545",
     "locked": false,
     "schema_version": 3,
     "solution": true,
     "task": false
    }
   },
   "outputs": [],
   "source": [
    "### BEGIN SOLUTION\n",
    "best_beta = betas[cost.argmin()]\n",
    "### END SOLUTION"
   ]
  },
  {
   "cell_type": "code",
   "execution_count": 113,
   "id": "af968267",
   "metadata": {
    "nbgrader": {
     "grade": true,
     "grade_id": "cell-9ac89f6d1135f76d",
     "locked": true,
     "points": 1,
     "schema_version": 3,
     "solution": false,
     "task": false
    }
   },
   "outputs": [],
   "source": [
    "assert best_beta\n",
    "assert best_beta == 2"
   ]
  },
  {
   "cell_type": "markdown",
   "id": "4f77de4f",
   "metadata": {
    "nbgrader": {
     "grade": false,
     "grade_id": "cell-84ff49ec938e372f",
     "locked": true,
     "schema_version": 3,
     "solution": false,
     "task": false
    }
   },
   "source": [
    "### Q3: Tuning $\\lambda$\n",
    "\n",
    "Now, calculate the cost function for several different values of $\\lambda$. Try $\\lambda = 1$, $\\lambda = 5$, and $\\lambda = 10$. Create a visualization of the cost function for each value, ideally on the same plot with the curve labeled for the appropriate $\\lambda$ value.\n",
    "\n",
    "Again, recall the cost function:\n",
    "\n",
    "$C_{ridge} = (y - \\beta)^2 + \\lambda*\\beta^2$ "
   ]
  },
  {
   "cell_type": "code",
   "execution_count": 118,
   "id": "db5966f3",
   "metadata": {
    "nbgrader": {
     "grade": true,
     "grade_id": "cell-70ed0bea449cf763",
     "locked": false,
     "points": 1,
     "schema_version": 3,
     "solution": true,
     "task": false
    }
   },
   "outputs": [
    {
     "data": {
      "text/plain": [
       "<matplotlib.legend.Legend at 0x7fcc19d567f0>"
      ]
     },
     "execution_count": 118,
     "metadata": {},
     "output_type": "execute_result"
    },
    {
     "data": {
      "image/png": "[encoded data removed]",
      "text/plain": [
       "<Figure size 432x288 with 1 Axes>"
      ]
     },
     "metadata": {
      "needs_background": "light"
     },
     "output_type": "display_data"
    }
   ],
   "source": [
    "### BEGIN SOLUTION\n",
    "y = 2\n",
    "cost_l1 = (y - betas)**2 + 1 * betas**2\n",
    "cost_l5 = (y - betas)**2 + 5 * betas**2\n",
    "cost_l10 = (y - betas)**2 + 10 * betas**2\n",
    "\n",
    "plt.plot(betas, cost_l1, label = \"lambda = 1\")\n",
    "plt.plot(betas, cost_l5, label = \"lambda = 5\")\n",
    "plt.plot(betas, cost_l10, label = \"lambda = 10\")\n",
    "plt.xlabel(\"Beta\")\n",
    "plt.ylabel(\"Cost\")\n",
    "plt.legend()\n",
    "### END SOLUTION"
   ]
  },
  {
   "cell_type": "markdown",
   "id": "f61b1ad7",
   "metadata": {
    "nbgrader": {
     "grade": false,
     "grade_id": "cell-d58e678bb2123905",
     "locked": true,
     "schema_version": 3,
     "solution": false,
     "task": false
    }
   },
   "source": [
    "### Q4: Interpreting the effect of $\\lambda$\n",
    "\n",
    "As $\\lambda$ increases, what happens to the value of $\\beta$ that *minimizes* this cost function?\n",
    "\n",
    "- A) It increases.\n",
    "- B) It decreases. \n",
    "- C) There is no effect.\n",
    "\n",
    "Set your answer to `ans4`."
   ]
  },
  {
   "cell_type": "code",
   "execution_count": 96,
   "id": "274f6f51",
   "metadata": {
    "nbgrader": {
     "grade": false,
     "grade_id": "cell-27c7b71f545f7502",
     "locked": false,
     "schema_version": 3,
     "solution": true,
     "task": false
    }
   },
   "outputs": [],
   "source": [
    "### BEGIN SOLUTION\n",
    "ans4 = \"B\"\n",
    "### END SOLUTION"
   ]
  },
  {
   "cell_type": "code",
   "execution_count": 97,
   "id": "a33ad359",
   "metadata": {
    "nbgrader": {
     "grade": true,
     "grade_id": "cell-df252441be3689ef",
     "locked": true,
     "points": 1,
     "schema_version": 3,
     "solution": false,
     "task": false
    }
   },
   "outputs": [],
   "source": [
    "### At least one hidden test\n",
    "assert ans4\n",
    "### BEGIN HIDDEN TESTS\n",
    "assert ans4 == \"B\"\n",
    "### END HIDDEN TESTS"
   ]
  },
  {
   "cell_type": "markdown",
   "id": "f409e727",
   "metadata": {
    "nbgrader": {
     "grade": false,
     "grade_id": "cell-d92f0465365b0f54",
     "locked": true,
     "schema_version": 3,
     "solution": false,
     "task": false
    }
   },
   "source": [
    "### Q5: Now, compare to $L_1$ penalty\n",
    "\n",
    "Recall that **Lasso** uses the $L_1$ cost function: \n",
    "\n",
    "$C_{lasso} = (y - \\beta)^2 + \\lambda*|\\beta|$ \n",
    "\n",
    "Recreate the graph you created in Q3, with the same lambda values and same beta values, but using the **Lasso** cost function instead."
   ]
  },
  {
   "cell_type": "code",
   "execution_count": 119,
   "id": "cf390f7c",
   "metadata": {
    "nbgrader": {
     "grade": true,
     "grade_id": "cell-abb86f2707ebea24",
     "locked": false,
     "points": 1,
     "schema_version": 3,
     "solution": true,
     "task": false
    }
   },
   "outputs": [
    {
     "data": {
      "text/plain": [
       "<matplotlib.legend.Legend at 0x7fcc19ce8df0>"
      ]
     },
     "execution_count": 119,
     "metadata": {},
     "output_type": "execute_result"
    },
    {
     "data": {
      "image/png": "[encoded data removed]",
      "text/plain": [
       "<Figure size 432x288 with 1 Axes>"
      ]
     },
     "metadata": {
      "needs_background": "light"
     },
     "output_type": "display_data"
    }
   ],
   "source": [
    "### BEGIN SOLUTION\n",
    "y = 2\n",
    "cost_l1 = (y - betas)**2 + 1 * abs(betas)\n",
    "cost_l5 = (y - betas)**2 + 5 * abs(betas)\n",
    "cost_l10 = (y - betas)**2 + 10 * abs(betas)\n",
    "\n",
    "plt.plot(betas, cost_l1, label = \"lambda = 1\")\n",
    "plt.plot(betas, cost_l5, label = \"lambda = 5\")\n",
    "plt.plot(betas, cost_l10, label = \"lambda = 10\")\n",
    "plt.xlabel(\"Beta\")\n",
    "plt.ylabel(\"Cost\")\n",
    "plt.legend()\n",
    "\n",
    "### END SOLUTION"
   ]
  },
  {
   "cell_type": "markdown",
   "id": "a718e4ad",
   "metadata": {
    "nbgrader": {
     "grade": false,
     "grade_id": "cell-0d711283abf3b2db",
     "locked": true,
     "schema_version": 3,
     "solution": false,
     "task": false
    }
   },
   "source": [
    "### Q6: $\\lambda$ and flexibility\n",
    "\n",
    "As $\\lambda$ increases, would you say that the model becomes:\n",
    "\n",
    "- A) More flexible.  \n",
    "- B) Less flexible. \n",
    "- C) Equally flexible.\n",
    "\n",
    "Store your answer to `ans6`."
   ]
  },
  {
   "cell_type": "code",
   "execution_count": 99,
   "id": "d09a62ac",
   "metadata": {
    "nbgrader": {
     "grade": false,
     "grade_id": "cell-0fa1102cf7b9a6fb",
     "locked": false,
     "schema_version": 3,
     "solution": true,
     "task": false
    }
   },
   "outputs": [],
   "source": [
    "### BEGIN SOLUTION\n",
    "ans6 = \"B\"\n",
    "### END SOLUTION"
   ]
  },
  {
   "cell_type": "code",
   "execution_count": 100,
   "id": "ca4b608e",
   "metadata": {
    "nbgrader": {
     "grade": true,
     "grade_id": "cell-ce935f3f547ff7f0",
     "locked": true,
     "points": 1,
     "schema_version": 3,
     "solution": false,
     "task": false
    }
   },
   "outputs": [],
   "source": [
    "### At least one hidden test\n",
    "assert ans6\n",
    "### BEGIN HIDDEN TESTS\n",
    "assert ans6 == \"B\"\n",
    "### END HIDDEN TESTS\n"
   ]
  },
  {
   "cell_type": "markdown",
   "id": "b2483c67",
   "metadata": {
    "nbgrader": {
     "grade": false,
     "grade_id": "cell-44a47fc475d05202",
     "locked": true,
     "schema_version": 3,
     "solution": false,
     "task": false
    }
   },
   "source": [
    "## Part 2: Using `sklearn` for regularization\n",
    "\n",
    "In this part of the lab, you'll use the `sklearn` library to implement `Lasso` and `Ridge` regularization on an actual dataset."
   ]
  },
  {
   "cell_type": "markdown",
   "id": "f1bc6957",
   "metadata": {},
   "source": [
    "### Q7: Fit a `Lasso` model\n",
    "\n",
    "In this step, fit a `Lasso` model to our *scaled features* (`X_scaled` below) and our dependent variable (`y_scaled`) below. Use an `alpha = .01`.\n",
    "\n",
    "Then, calculate the following variables:\n",
    "\n",
    "- `num_zero`: the number of coefficients from the model with a value of exactly zero.  \n",
    "- `avg_abs_value`: the average *absolute value* of coefficients from the model.\n",
    "\n",
    "Note: you can access the coefficient sfrom the fit `Lasso` model using `model.coef_`."
   ]
  },
  {
   "cell_type": "code",
   "execution_count": 101,
   "id": "50a9f356",
   "metadata": {
    "nbgrader": {
     "grade": false,
     "grade_id": "cell-270362facf20a571",
     "locked": true,
     "schema_version": 3,
     "solution": false,
     "task": false
    }
   },
   "outputs": [],
   "source": [
    "### Setting up X and y\n",
    "X = df[['longitude', 'latitude', 'housing_median_age', 'total_rooms',\n",
    "       'total_bedrooms', 'population', 'households', 'median_income']].values\n",
    "y = df['median_house_value'].values\n",
    "\n",
    "### Scaling\n",
    "scaler = StandardScaler()\n",
    "X_scaled = scaler.fit_transform(X)\n",
    "y_scaled = scaler.fit_transform(y.reshape(-1, 1))"
   ]
  },
  {
   "cell_type": "code",
   "execution_count": 102,
   "id": "067c583a",
   "metadata": {
    "nbgrader": {
     "grade": false,
     "grade_id": "cell-c300cb68b329ef83",
     "locked": false,
     "schema_version": 3,
     "solution": true,
     "task": false
    }
   },
   "outputs": [],
   "source": [
    "### BEGIN SOLUTION\n",
    "lasso = Lasso(alpha=.01)\n",
    "lasso.fit(X_scaled, y_scaled)\n",
    "num_zero = len([i for i in lasso.coef_ if i == 0])\n",
    "avg_abs_value = abs(lasso.coef_).mean()\n",
    "### END SOLUTION"
   ]
  },
  {
   "cell_type": "code",
   "execution_count": 103,
   "id": "7d260bde",
   "metadata": {
    "nbgrader": {
     "grade": true,
     "grade_id": "cell-8f6b91578b98ccf2",
     "locked": true,
     "points": 1,
     "schema_version": 3,
     "solution": false,
     "task": false
    }
   },
   "outputs": [],
   "source": [
    "### At least one hidden test\n",
    "assert avg_abs_value\n",
    "assert num_zero\n",
    "\n",
    "### BEGIN HIDDEN TESTS\n",
    "assert num_zero == 1\n",
    "assert round(avg_abs_value, 2) == 0.34\n",
    "### END HIDDEN TESTS"
   ]
  },
  {
   "cell_type": "markdown",
   "id": "a3a2588e",
   "metadata": {
    "nbgrader": {
     "grade": false,
     "grade_id": "cell-cef0f468691f7c00",
     "locked": true,
     "schema_version": 3,
     "solution": false,
     "task": false
    }
   },
   "source": [
    "### Q8: The effect of `alpha`.\n",
    "\n",
    "Now, consider the range of `alpha` values below in `alphas`. For each `alpha`:\n",
    "\n",
    "- Fit a `Lasso` model.  \n",
    "- Calculate `num_zero`.  \n",
    "- Calculate `avg_abs_value`. \n",
    "\n",
    "Then, create a `DataFrame` with these results called `df_results` with three columns: `alpha`, `num_zero`, and `avg_abs_value`. \n",
    "\n",
    "**Note**: This might take a little while to run."
   ]
  },
  {
   "cell_type": "code",
   "execution_count": 104,
   "id": "7d5523f9",
   "metadata": {
    "nbgrader": {
     "grade": false,
     "grade_id": "cell-85cd58a9e4f60938",
     "locked": true,
     "schema_version": 3,
     "solution": false,
     "task": false
    }
   },
   "outputs": [],
   "source": [
    "alphas = np.linspace(.01, .5, 20)"
   ]
  },
  {
   "cell_type": "code",
   "execution_count": 105,
   "id": "c04f7f6d",
   "metadata": {
    "nbgrader": {
     "grade": false,
     "grade_id": "cell-2bbda544df2f91d5",
     "locked": false,
     "schema_version": 3,
     "solution": true,
     "task": false
    }
   },
   "outputs": [],
   "source": [
    "### BEGIN SOLUTION\n",
    "results = []\n",
    "for alpha in alphas:\n",
    "    lasso = Lasso(alpha=alpha)\n",
    "    lasso.fit(X_scaled, y_scaled)\n",
    "    num_zero = len([i for i in lasso.coef_ if i == 0])\n",
    "    avg_abs_value = abs(lasso.coef_).mean()\n",
    "    results.append({\n",
    "        'num_zero': num_zero,\n",
    "        'avg_abs_value': avg_abs_value,\n",
    "        'alpha': alpha\n",
    "    })\n",
    "df_results = pd.DataFrame(results)\n",
    "### END SOLUTION"
   ]
  },
  {
   "cell_type": "code",
   "execution_count": 106,
   "id": "5c3d56b7",
   "metadata": {
    "nbgrader": {
     "grade": true,
     "grade_id": "cell-e7687dc96e855a35",
     "locked": true,
     "points": 1,
     "schema_version": 3,
     "solution": false,
     "task": false
    }
   },
   "outputs": [],
   "source": [
    "assert 'num_zero' in df_results.columns\n",
    "assert 'avg_abs_value' in df_results.columns\n",
    "assert 'alpha' in df_results.columns"
   ]
  },
  {
   "cell_type": "markdown",
   "id": "4c023b26",
   "metadata": {
    "nbgrader": {
     "grade": false,
     "grade_id": "cell-5be806797bc052b0",
     "locked": true,
     "schema_version": 3,
     "solution": false,
     "task": false
    }
   },
   "source": [
    "### Q8: How does `alpha` affect `num_zero`?\n",
    "\n",
    "Now, create a **visualization** looking at the relationship between `alpha` and `num_zero`. What do you notice?"
   ]
  },
  {
   "cell_type": "code",
   "execution_count": 107,
   "id": "2553d6cb",
   "metadata": {
    "nbgrader": {
     "grade": true,
     "grade_id": "cell-f83a1b5e2039df22",
     "locked": false,
     "points": 1,
     "schema_version": 3,
     "solution": true,
     "task": false
    }
   },
   "outputs": [
    {
     "data": {
      "text/plain": [
       "<AxesSubplot:xlabel='alpha', ylabel='num_zero'>"
      ]
     },
     "execution_count": 107,
     "metadata": {},
     "output_type": "execute_result"
    },
    {
     "data": {
      "image/png": "[encoded data removed]",
      "text/plain": [
       "<Figure size 432x288 with 1 Axes>"
      ]
     },
     "metadata": {
      "needs_background": "light"
     },
     "output_type": "display_data"
    }
   ],
   "source": [
    "### BEGIN SOLUTION\n",
    "sns.lineplot(data = df_results, x = \"alpha\", y = \"num_zero\")\n",
    "### END SOLUTION"
   ]
  },
  {
   "cell_type": "markdown",
   "id": "0dd06ee9",
   "metadata": {
    "nbgrader": {
     "grade": false,
     "grade_id": "cell-f88d8d5a495dae6b",
     "locked": true,
     "schema_version": 3,
     "solution": false,
     "task": false
    }
   },
   "source": [
    "### Q9: How does `alpha` affect `avg_abs_value`?\n",
    "\n",
    "Now, create a **visualization** looking at the relationship between `alpha` and `avg_abs_value`. What do you notice?"
   ]
  },
  {
   "cell_type": "code",
   "execution_count": 108,
   "id": "541ca496",
   "metadata": {
    "nbgrader": {
     "grade": true,
     "grade_id": "cell-39d049175e9868e8",
     "locked": false,
     "points": 1,
     "schema_version": 3,
     "solution": true,
     "task": false
    }
   },
   "outputs": [
    {
     "data": {
      "text/plain": [
       "<AxesSubplot:xlabel='alpha', ylabel='avg_abs_value'>"
      ]
     },
     "execution_count": 108,
     "metadata": {},
     "output_type": "execute_result"
    },
    {
     "data": {
      "image/png": "[encoded data removed]",
      "text/plain": [
       "<Figure size 432x288 with 1 Axes>"
      ]
     },
     "metadata": {
      "needs_background": "light"
     },
     "output_type": "display_data"
    }
   ],
   "source": [
    "### BEGIN SOLUTION\n",
    "sns.lineplot(data = df_results, x = \"alpha\", y = \"avg_abs_value\")\n",
    "### END SOLUTION"
   ]
  },
  {
   "cell_type": "markdown",
   "id": "245d41c0",
   "metadata": {
    "nbgrader": {
     "grade": false,
     "grade_id": "cell-ec04cd274f8e7fcc",
     "locked": true,
     "schema_version": 3,
     "solution": false,
     "task": false
    }
   },
   "source": [
    "# Submit!\n",
    "\n",
    "Nice work! Don't forget to *validate* and *submit* your work."
   ]
  }
 ],
 "metadata": {
  "celltoolbar": "Create Assignment",
  "kernelspec": {
   "display_name": "Python 3 (clean)",
   "language": "python",
   "name": "python3_clean"
  },
  "language_info": {
   "codemirror_mode": {
    "name": "ipython",
    "version": 3
   },
   "file_extension": ".py",
   "mimetype": "text/x-python",
   "name": "python",
   "nbconvert_exporter": "python",
   "pygments_lexer": "ipython3",
   "version": "3.9.5"
  }
 },
 "nbformat": 4,
 "nbformat_minor": 5
}
