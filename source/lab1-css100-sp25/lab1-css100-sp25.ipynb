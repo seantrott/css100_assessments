{
 "cells": [
  {
   "cell_type": "markdown",
   "id": "e3f8134f",
   "metadata": {
    "nbgrader": {
     "grade": false,
     "grade_id": "cell-4ceaf8f4d277cad8",
     "locked": true,
     "schema_version": 3,
     "solution": false,
     "task": false
    }
   },
   "source": [
    "# Lab 1\n",
    "\n",
    "In this lab, you will get hands-on practice with the basics of **object-oriented programming**."
   ]
  },
  {
   "cell_type": "markdown",
   "id": "f6f68cc2",
   "metadata": {
    "nbgrader": {
     "grade": false,
     "grade_id": "cell-07dd88e6f6ef8a87",
     "locked": true,
     "schema_version": 3,
     "solution": false,
     "task": false
    }
   },
   "source": [
    "### Q1: Create a `Text` class\n",
    "\n",
    "Create a class called `Text`. \n",
    "\n",
    "The `__init__` function should take the following arguments (in addition to `self`):\n",
    "\n",
    "- `title`: a `str`\n",
    "- `author`: a `str`\n",
    "- `year`: an `int`\n",
    "\n",
    "```python\n",
    ">>> b1 = Text(\"1984\", \"George Orwell\", 1949)\n",
    "```\n",
    "\n",
    "See also the `assert` tests below."
   ]
  },
  {
   "cell_type": "code",
   "execution_count": 8,
   "id": "9c8b6cf3",
   "metadata": {
    "nbgrader": {
     "grade": false,
     "grade_id": "cell-5cad654c3635d6a3",
     "locked": false,
     "schema_version": 3,
     "solution": true,
     "task": false
    }
   },
   "outputs": [],
   "source": [
    "### BEGIN SOLUTION\n",
    "class Text(object):\n",
    "    def __init__(self, title, author, year):\n",
    "        self.title = title\n",
    "        self.author = author\n",
    "        self.year = year\n",
    "### END SOLUTION"
   ]
  },
  {
   "cell_type": "code",
   "execution_count": 9,
   "id": "b5c699b7",
   "metadata": {
    "nbgrader": {
     "grade": true,
     "grade_id": "cell-85e53b8bdd7fd678",
     "locked": true,
     "points": 1,
     "schema_version": 3,
     "solution": false,
     "task": false
    }
   },
   "outputs": [],
   "source": [
    "t1 = Text(\"1984\", \"George Orwell\", 1949)\n",
    "assert t1.title == \"1984\"\n",
    "assert t1.author == \"George Orwell\"\n",
    "assert t1.year == 1949"
   ]
  },
  {
   "cell_type": "code",
   "execution_count": 10,
   "id": "0e409cee",
   "metadata": {
    "nbgrader": {
     "grade": true,
     "grade_id": "cell-2ebcdd78699cf72e",
     "locked": true,
     "points": 1,
     "schema_version": 3,
     "solution": false,
     "task": false
    }
   },
   "outputs": [],
   "source": [
    "t1 = Text(\"National Geographic\", \"Various\", 1972)\n",
    "assert t1.title == \"National Geographic\"\n",
    "assert t1.author == \"Various\"\n",
    "assert t1.year == 1972"
   ]
  },
  {
   "cell_type": "markdown",
   "id": "fde0fcb3",
   "metadata": {
    "nbgrader": {
     "grade": false,
     "grade_id": "cell-7fc9c6647128b3f9",
     "locked": true,
     "schema_version": 3,
     "solution": false,
     "task": false
    }
   },
   "source": [
    "### Q2: Create a `Novel` class\n",
    "\n",
    "Now, create a new class called `Novel`, which **inherits** from `Text`. It has all the same attributes, but should add two other attributes called `genre` (a `str`) and `word_count` (an `int`).\n",
    "\n",
    "Additionally, `Novel` should implement a `get_reading_time` method, which divides `self.word_count` by an estimated words_per_minute of `250` and rounds the answer to the nearest integer.\n",
    "\n",
    "```python\n",
    ">>> n1 = Novel(\"1984\", \"George Orwell\", 1949, \"dystopian\", 89000)\n",
    ">>> n1.get_reading_time()\n",
    "356\n",
    "```\n"
   ]
  },
  {
   "cell_type": "code",
   "execution_count": 14,
   "id": "9974680b",
   "metadata": {
    "nbgrader": {
     "grade": false,
     "grade_id": "cell-bee93d5e8df6aec7",
     "locked": false,
     "schema_version": 3,
     "solution": true,
     "task": false
    }
   },
   "outputs": [],
   "source": [
    "### BEGIN SOLUTION\n",
    "class Novel(Text):\n",
    "    def __init__(self, title, author, year, genre, word_count):\n",
    "        super().__init__(title, author, year)\n",
    "        self.genre = genre\n",
    "        self.word_count = word_count\n",
    "        \n",
    "    def get_reading_time(self):\n",
    "        return round(self.word_count / 250)\n",
    "### END SOLUTION"
   ]
  },
  {
   "cell_type": "code",
   "execution_count": 19,
   "id": "4109399a",
   "metadata": {
    "nbgrader": {
     "grade": true,
     "grade_id": "cell-dcfdee410c3d03df",
     "locked": true,
     "points": 1,
     "schema_version": 3,
     "solution": false,
     "task": false
    }
   },
   "outputs": [],
   "source": [
    "n1 = Novel(\"1984\", \"George Orwell\", 1949, \"dystopian\", 89000)\n",
    "\n",
    "assert n1.genre == \"dystopian\"\n",
    "assert n1.word_count == 89000\n",
    "assert n1.title == \"1984\"\n",
    "\n",
    "rt1 = n1.get_reading_time()\n",
    "assert rt1 == 356"
   ]
  },
  {
   "cell_type": "code",
   "execution_count": 21,
   "id": "1eff45d1",
   "metadata": {
    "nbgrader": {
     "grade": true,
     "grade_id": "cell-928ef6f0e3f9504f",
     "locked": true,
     "points": 1,
     "schema_version": 3,
     "solution": false,
     "task": false
    }
   },
   "outputs": [],
   "source": [
    "n2 = Novel(\"The Bluest Eye\", \"Toni Morrison\", 1970, \"fiction\", 52000)\n",
    "\n",
    "assert n2.genre == \"fiction\"\n",
    "assert n2.word_count == 52000\n",
    "assert n2.title == \"The Bluest Eye\"\n",
    "\n",
    "rt2 = n2.get_reading_time()\n",
    "assert rt2 == 208"
   ]
  },
  {
   "cell_type": "code",
   "execution_count": 30,
   "id": "ea1d505f",
   "metadata": {
    "nbgrader": {
     "grade": true,
     "grade_id": "cell-493047d56f777541",
     "locked": true,
     "points": 1,
     "schema_version": 3,
     "solution": false,
     "task": false
    }
   },
   "outputs": [],
   "source": [
    "# Check that it's the right type\n",
    "assert isinstance(n1, Novel)\n",
    "assert isinstance(n2, Novel)\n",
    "# Check that it's inherited correctly\n",
    "assert isinstance(n1, Text)\n",
    "assert isinstance(n2, Text)"
   ]
  },
  {
   "cell_type": "markdown",
   "id": "fb3d2c83",
   "metadata": {
    "nbgrader": {
     "grade": false,
     "grade_id": "cell-e6a5c153cde9c767",
     "locked": true,
     "schema_version": 3,
     "solution": false,
     "task": false
    }
   },
   "source": [
    "### Q3: Create a `Library` class\n",
    "\n",
    "Now, create a class called `Library`, which has the following attributes:\n",
    "\n",
    "- `location`: a `str`\n",
    "- `books`: a `list` of `Novel` instances. \n",
    "\n",
    "This class should also have two methods:\n",
    "\n",
    "- `organize_collection_by_year`: creates a new attribute (`self.collection_sorted_by_year`) that contains a *dictionary*, where each *key* is a *year*, and each *value* is a `list` of `Novel` instances published in that year.\n",
    "- `organize_collection_by_genre`: creates a new attribute (`self.collection_sorted_by_genre`) that contains a *dictionary*, where each *key* is a *genre*, and each *value* is a `list` of `Novel` instances published in that year."
   ]
  },
  {
   "cell_type": "code",
   "execution_count": 32,
   "id": "36317398",
   "metadata": {
    "nbgrader": {
     "grade": false,
     "grade_id": "cell-492a120752cffb3a",
     "locked": false,
     "schema_version": 3,
     "solution": true,
     "task": false
    }
   },
   "outputs": [],
   "source": [
    "### BEGIN SOLUTION\n",
    "class Library:\n",
    "    def __init__(self, location, books):\n",
    "        self.location = location\n",
    "        self.books = books\n",
    "        self.collection_sorted_by_year = {}\n",
    "        self.collection_sorted_by_genre = {}\n",
    "\n",
    "    def organize_collection_by_year(self):\n",
    "        for book in self.books:\n",
    "            if book.year in self.collection_sorted_by_year:\n",
    "                self.collection_sorted_by_year[book.year].append(book)\n",
    "            else:\n",
    "                self.collection_sorted_by_year[book.year] = [book]\n",
    "\n",
    "    def organize_collection_by_genre(self):\n",
    "        for book in self.books:\n",
    "            if book.genre in self.collection_sorted_by_genre:\n",
    "                self.collection_sorted_by_genre[book.genre].append(book)\n",
    "            else:\n",
    "                self.collection_sorted_by_genre[book.genre] = [book]\n",
    "### END SOLUTION"
   ]
  },
  {
   "cell_type": "code",
   "execution_count": 45,
   "id": "35acb317",
   "metadata": {
    "nbgrader": {
     "grade": true,
     "grade_id": "cell-9348d2cb890d091f",
     "locked": true,
     "points": 1,
     "schema_version": 3,
     "solution": false,
     "task": false
    }
   },
   "outputs": [],
   "source": [
    "## set up novels\n",
    "n1 = Novel(\"1984\", \"George Orwell\", 1949, \"dystopian\", 89000)\n",
    "n2 = Novel(\"The Bluest Eye\", \"Toni Morrison\", 1970, \"fiction\", 52000)\n",
    "n3 = Novel(\"Watership Down\", \"Richard Adams\", 1970, \"fantasy\", 156000)\n",
    "n4 = Novel(\"The Hobbit\", \"JRR Tolkien\", 1937, \"fantasy\", 95000)\n",
    "\n",
    "## create library\n",
    "library = Library(\"San Diego\", books = [n1, n2, n3, n4])\n",
    "\n",
    "## check\n",
    "assert library.location == \"San Diego\"\n",
    "assert len(library.books) == 4"
   ]
  },
  {
   "cell_type": "code",
   "execution_count": 52,
   "id": "4795c138",
   "metadata": {
    "nbgrader": {
     "grade": true,
     "grade_id": "cell-ecc396c391b020e4",
     "locked": true,
     "points": 2,
     "schema_version": 3,
     "solution": false,
     "task": false
    }
   },
   "outputs": [],
   "source": [
    "# check for organizing by genre\n",
    "library = Library(\"San Diego\", books = [n1, n2, n3, n4])\n",
    "library.organize_collection_by_genre()\n",
    "\n",
    "assert len(library.collection_sorted_by_genre.keys()) == 3\n",
    "assert \"dystopian\" in library.collection_sorted_by_genre\n",
    "assert \"fantasy\" in library.collection_sorted_by_genre\n",
    "assert \"fiction\" in library.collection_sorted_by_genre\n",
    "assert len(library.collection_sorted_by_genre['fiction']) == 1\n",
    "assert len(library.collection_sorted_by_genre['fantasy']) == 2\n"
   ]
  },
  {
   "cell_type": "code",
   "execution_count": 53,
   "id": "fa197e7e",
   "metadata": {
    "nbgrader": {
     "grade": true,
     "grade_id": "cell-8ae550f47410f933",
     "locked": true,
     "points": 2,
     "schema_version": 3,
     "solution": false,
     "task": false
    }
   },
   "outputs": [],
   "source": [
    "# check for organizing by year\n",
    "library = Library(\"San Diego\", books = [n1, n2, n3, n4])\n",
    "library.organize_collection_by_year()\n",
    "\n",
    "assert len(library.collection_sorted_by_year.keys()) == 3\n",
    "assert 1949 in library.collection_sorted_by_year\n",
    "assert 1970 in library.collection_sorted_by_year\n",
    "assert 1937 in library.collection_sorted_by_year\n",
    "\n",
    "assert len(library.collection_sorted_by_year[1949]) == 1\n",
    "assert len(library.collection_sorted_by_year[1970]) == 2"
   ]
  },
  {
   "cell_type": "markdown",
   "id": "c32648bf",
   "metadata": {},
   "source": [
    "## Submit!\n",
    "\n",
    "Congratulations——you just implemented some `class`es in Python. Don't forget to *validate* and then *Submit* your assignment."
   ]
  }
 ],
 "metadata": {
  "celltoolbar": "Create Assignment",
  "kernelspec": {
   "display_name": "Python 3 (clean)",
   "language": "python",
   "name": "python3_clean"
  },
  "language_info": {
   "codemirror_mode": {
    "name": "ipython",
    "version": 3
   },
   "file_extension": ".py",
   "mimetype": "text/x-python",
   "name": "python",
   "nbconvert_exporter": "python",
   "pygments_lexer": "ipython3",
   "version": "3.9.5"
  }
 },
 "nbformat": 4,
 "nbformat_minor": 5
}
